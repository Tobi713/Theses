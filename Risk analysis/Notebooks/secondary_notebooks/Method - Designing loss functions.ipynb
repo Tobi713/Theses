{
 "cells": [
  {
   "cell_type": "markdown",
   "metadata": {},
   "source": [
    "## Method: Designing loss functions for specific cases\n",
    "\n",
    "Content:\n",
    "\n",
    "LOSS FUNCTIONS IN GENERAL\n",
    "- Purpose, idea, definition and mathematical formulation of loss functions in general\n",
    "- Expected loss and risk in loss functions\n",
    "- Relation to decision functions (decision making)\n",
    "\n",
    "- Some standard, often used loss functions\n",
    "    - Absolute loss\n",
    "    - Squared loss\n",
    "\n",
    "- Symmetry and the use of asymmetry to take into account preferences\n",
    "    - Examples: Weather, fish product\n",
    "\n",
    "- Including risk-affinity/risk-behavior\n",
    "\n",
    "DESIGNING A LOSS FUNCTION FOR SPECIFIC CASES\n",
    "\n",
    "Case I: Minimum-loss prediction of the value of a reservoir (1D case)\n",
    "- Reservoir value is abstractly given by the uncertain positions of three layer boundaries. These define the thickness of the reservoir, the depth it's located in and the thickness of the overlying seal.\n",
    "- Value = (Reservoir_Thickness[distribution] * Seal-Presence[1/0]) - Costs_of_Depth[distribution]\n",
    "\n",
    "- Step-by-step derivation of the loss function:\n",
    "\n",
    "    1. Which standard loss function as a starting point and why? (Absolute loss)\n",
    "    2. Adaption: Maximum loss when predicting 0 or negative is opportunity cost (true value).\n",
    "    3. Adaption: Irrelevant cases when prediction and true value both negative.\n",
    "    4. Adaption: Worse cases of overestimation when value 0 or negative.\n",
    "    5. Adaption: Include risk-affinity of different actors.\n",
    "    \n",
    "- Show graphs of loss function on full distribution but also given determined true values and explain for better understanding. \n",
    "\n",
    "Case II: Graben-structure (2D case)\n",
    "- Assume seal presence. Uncertainty in reservoir thickness and fault displacements? Resulting possibility of juxtaposition. Uncertainty of fault sealing? Risk: Leakage across fault. (Also along fault?)\n",
    "\n",
    "Case III: Faulted fold-structure (3D case)\n",
    "- Added uncertainty of topology and consequent uncertainty of spill point. Rest as in Case II. 3D case allows precition of volume. Possibly include other parameters, such as those defining reservoir quality (porosity, recovery factor,...)\n",
    "- Possibility to add all parameters needed to acquire the real NPV??\n",
    "\n",
    "Case IV: Real case based on real data?"
   ]
  },
  {
   "cell_type": "code",
   "execution_count": null,
   "metadata": {
    "collapsed": true
   },
   "outputs": [],
   "source": []
  },
  {
   "cell_type": "code",
   "execution_count": null,
   "metadata": {
    "collapsed": true
   },
   "outputs": [],
   "source": []
  }
 ],
 "metadata": {
  "kernelspec": {
   "display_name": "Python 3",
   "language": "python",
   "name": "python3"
  },
  "language_info": {
   "codemirror_mode": {
    "name": "ipython",
    "version": 3
   },
   "file_extension": ".py",
   "mimetype": "text/x-python",
   "name": "python",
   "nbconvert_exporter": "python",
   "pygments_lexer": "ipython3",
   "version": "3.5.2"
  }
 },
 "nbformat": 4,
 "nbformat_minor": 0
}
