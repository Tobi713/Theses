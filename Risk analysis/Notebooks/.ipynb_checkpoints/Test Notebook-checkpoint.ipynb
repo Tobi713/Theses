{
 "cells": [
  {
   "cell_type": "code",
   "execution_count": 1,
   "metadata": {
    "collapsed": true
   },
   "outputs": [],
   "source": [
    "import numpy as np"
   ]
  },
  {
   "cell_type": "code",
   "execution_count": 44,
   "metadata": {},
   "outputs": [],
   "source": [
    "estimates_s = np.arange(0,60000000, 10000)\n",
    "\n",
    "# weight factors\n",
    "ov = 1.25\n",
    "ov_b = 2\n",
    "uv_b = 1.5\n",
    "\n",
    "# risk factor range\n",
    "risks_s = np.arange(0.5, 1.6, 0.25)\n",
    "\n",
    "# cutom loss fucntion including risk factors\n",
    "def volume_lossR(estimate_s, true_s, risk_s):\n",
    "        true_s = np.array(true_s).astype(float)\n",
    "        loss_s = np.zeros_like(true_s)\n",
    "        underest = (estimate_s < true_s) \n",
    "        underest_bad = (estimate_s == 0) & (true_s > 0)\n",
    "        overest = (estimate_s > true_s) \n",
    "        overest_bad = (estimate_s > 0) & (true_s == 0)\n",
    "        loss_s[underest] = (true_s[underest] - estimate_s)\n",
    "        loss_s[underest_bad] = (true_s[underest_bad] - estimate_s)*(uv_b*(risk_s**-0.5))\n",
    "        loss_s[overest] = (estimate_s - true_s[overest])*(ov*risk_s)\n",
    "        loss_s[overest_bad] = np.abs((true_s[overest_bad]-estimate_s))*(ov_b*risk_s)\n",
    "        return np.square(loss_s)"
   ]
  },
  {
   "cell_type": "code",
   "execution_count": 45,
   "metadata": {},
   "outputs": [
    {
     "data": {
      "text/plain": [
       "array([ 25.      ,   3.515625,   0.390625,   0.25    ,   2.25    ,   6.25    ])"
      ]
     },
     "execution_count": 45,
     "metadata": {},
     "output_type": "execute_result"
    }
   ],
   "source": [
    "volume_lossR(2.5,np.arange(0,6,1),1)"
   ]
  },
  {
   "cell_type": "code",
   "execution_count": 25,
   "metadata": {},
   "outputs": [
    {
     "data": {
      "text/plain": [
       "1.8333333333333333"
      ]
     },
     "execution_count": 25,
     "metadata": {},
     "output_type": "execute_result"
    }
   ],
   "source": [
    "volume_lossR(2,np.arange(0,6,1),1).mean()"
   ]
  },
  {
   "cell_type": "code",
   "execution_count": 30,
   "metadata": {},
   "outputs": [
    {
     "data": {
      "text/plain": [
       "array(2)"
      ]
     },
     "execution_count": 30,
     "metadata": {},
     "output_type": "execute_result"
    }
   ],
   "source": [
    "volume_lossR(2,4,1)"
   ]
  },
  {
   "cell_type": "code",
   "execution_count": 41,
   "metadata": {},
   "outputs": [
    {
     "data": {
      "text/plain": [
       "4"
      ]
     },
     "execution_count": 41,
     "metadata": {},
     "output_type": "execute_result"
    }
   ],
   "source": [
    "np.square(2)"
   ]
  },
  {
   "cell_type": "code",
   "execution_count": 1,
   "metadata": {},
   "outputs": [
    {
     "name": "stderr",
     "output_type": "stream",
     "text": [
      "/home/bl9/gempy/gempy/plotting/visualization.py:36: UserWarning: Steno 3D package is not installed. No 3D online visualization available.\n",
      "  warnings.warn('Steno 3D package is not installed. No 3D online visualization available.')\n",
      "/home/bl9/gempy/gempy/data_management.py:35: UserWarning: qgrid package is not installed. No interactive dataframes available.\n",
      "  warnings.warn('qgrid package is not installed. No interactive dataframes available.')\n"
     ]
    }
   ],
   "source": [
    "import sys\n",
    "sys.path.insert(0, '/home/bl9/gempy')\n",
    "import gempy as gp"
   ]
  },
  {
   "cell_type": "code",
   "execution_count": 2,
   "metadata": {},
   "outputs": [],
   "source": [
    "import numpy as np\n",
    "import sys\n",
    "sys.path.insert(0, '/home/bl9/gempy')\n",
    "import gempy as gp\n",
    "import decision_making as dm\n",
    "import scipy.optimize as sop\n",
    "%matplotlib inline"
   ]
  },
  {
   "cell_type": "code",
   "execution_count": 3,
   "metadata": {
    "collapsed": true
   },
   "outputs": [],
   "source": [
    "from IPython.core.pylabtools import figsize\n",
    "figsize(15, 6)\n",
    "from matplotlib import pyplot as plt"
   ]
  },
  {
   "cell_type": "code",
   "execution_count": 4,
   "metadata": {},
   "outputs": [
    {
     "data": {
      "text/plain": [
       "2.7000000000000002"
      ]
     },
     "execution_count": 4,
     "metadata": {},
     "output_type": "execute_result"
    }
   ],
   "source": [
    "dm.expected_loss_for_estimate(estimate_s=3, true_s=np.arange(0,10,1))"
   ]
  },
  {
   "cell_type": "code",
   "execution_count": 5,
   "metadata": {
    "collapsed": true
   },
   "outputs": [],
   "source": [
    "risk_range=np.arange(0.5,1.75,0.25)"
   ]
  },
  {
   "cell_type": "code",
   "execution_count": 6,
   "metadata": {},
   "outputs": [],
   "source": [
    "from numpy.random import randint\n",
    "random1 = randint(500,1000,500)\n",
    "random2 = randint(-100,100,500)\n",
    "random_numbers = np.append(random1,random2)\n",
    "score = np.random.normal(200, 500, 1000)"
   ]
  },
  {
   "cell_type": "code",
   "execution_count": 7,
   "metadata": {},
   "outputs": [
    {
     "data": {
      "image/png": "[encoded data removed]",
      "text/plain": [
       "<matplotlib.figure.Figure at 0x7f89ed3cf550>"
      ]
     },
     "metadata": {},
     "output_type": "display_data"
    }
   ],
   "source": [
    "_hist = plt.hist(score, bins=150, normed=True, histtype=\"stepfilled\")\n",
    "plt.grid()"
   ]
  },
  {
   "cell_type": "code",
   "execution_count": 8,
   "metadata": {},
   "outputs": [
    {
     "ename": "NameError",
     "evalue": "name 'ax' is not defined",
     "output_type": "error",
     "traceback": [
      "\u001b[0;31m---------------------------------------------------------------------------\u001b[0m",
      "\u001b[0;31mNameError\u001b[0m                                 Traceback (most recent call last)",
      "\u001b[0;32m<ipython-input-8-eab44886b7f9>\u001b[0m in \u001b[0;36m<module>\u001b[0;34m()\u001b[0m\n\u001b[1;32m      1\u001b[0m dm.expected_loss_plot(estimate_range=np.arange(-1000,1000,1), true_s=score, risk_range=risk_range,\n\u001b[0;32m----> 2\u001b[0;31m                        function='absolute', u=1,o=1.5,plot_functions=True)\n\u001b[0m",
      "\u001b[0;32m~/gempy/gempy/decision_making.py\u001b[0m in \u001b[0;36mexpected_loss_plot\u001b[0;34m(estimate_range, true_s, risk_range, function, u, o, u_f, o_f, plot_functions)\u001b[0m\n\u001b[1;32m    144\u001b[0m         \u001b[0;31m#    _min_vol = 0\u001b[0m\u001b[0;34m\u001b[0m\u001b[0;34m\u001b[0m\u001b[0m\n\u001b[1;32m    145\u001b[0m         \u001b[0;32mif\u001b[0m \u001b[0mplot_functions\u001b[0m \u001b[0;34m==\u001b[0m \u001b[0;32mTrue\u001b[0m\u001b[0;34m:\u001b[0m\u001b[0;34m\u001b[0m\u001b[0m\n\u001b[0;32m--> 146\u001b[0;31m             \u001b[0m_color\u001b[0m \u001b[0;34m=\u001b[0m \u001b[0mnext\u001b[0m\u001b[0;34m(\u001b[0m\u001b[0max\u001b[0m\u001b[0;34m.\u001b[0m\u001b[0m_get_lines\u001b[0m\u001b[0;34m.\u001b[0m\u001b[0mprop_cycler\u001b[0m\u001b[0;34m)\u001b[0m\u001b[0;34m\u001b[0m\u001b[0m\n\u001b[0m\u001b[1;32m    147\u001b[0m             \u001b[0mplt\u001b[0m\u001b[0;34m.\u001b[0m\u001b[0mplot\u001b[0m\u001b[0;34m(\u001b[0m\u001b[0mestimate_range\u001b[0m\u001b[0;34m,\u001b[0m \u001b[0mloss_e\u001b[0m\u001b[0;34m,\u001b[0m \u001b[0mlabel\u001b[0m\u001b[0;34m=\u001b[0m\u001b[0;34m\"r =\"\u001b[0m \u001b[0;34m+\u001b[0m \u001b[0mstr\u001b[0m\u001b[0;34m(\u001b[0m\u001b[0mr\u001b[0m\u001b[0;34m)\u001b[0m\u001b[0;34m,\u001b[0m \u001b[0mcolor\u001b[0m\u001b[0;34m=\u001b[0m\u001b[0m_color\u001b[0m\u001b[0;34m[\u001b[0m\u001b[0;34m'color'\u001b[0m\u001b[0;34m]\u001b[0m\u001b[0;34m)\u001b[0m\u001b[0;34m\u001b[0m\u001b[0m\n\u001b[1;32m    148\u001b[0m             plt.scatter(bayes_a, bayes_a_loss_e, s=70,\n",
      "\u001b[0;31mNameError\u001b[0m: name 'ax' is not defined"
     ]
    }
   ],
   "source": [
    "dm.expected_loss_plot(estimate_range=np.arange(-1000,1000,1), true_s=score, risk_range=risk_range,\n",
    "                       function='absolute', u=1,o=1.5,verbose=True)"
   ]
  },
  {
   "cell_type": "code",
   "execution_count": null,
   "metadata": {
    "collapsed": true
   },
   "outputs": [],
   "source": []
  }
 ],
 "metadata": {
  "kernelspec": {
   "display_name": "Python 3",
   "language": "python",
   "name": "python3"
  },
  "language_info": {
   "codemirror_mode": {
    "name": "ipython",
    "version": 3
   },
   "file_extension": ".py",
   "mimetype": "text/x-python",
   "name": "python",
   "nbconvert_exporter": "python",
   "pygments_lexer": "ipython3",
   "version": "3.5.3"
  }
 },
 "nbformat": 4,
 "nbformat_minor": 2
}
