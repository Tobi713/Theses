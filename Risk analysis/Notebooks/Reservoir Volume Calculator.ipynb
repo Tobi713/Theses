{
 "cells": [
  {
   "cell_type": "code",
   "execution_count": 11,
   "metadata": {
    "collapsed": true
   },
   "outputs": [],
   "source": [
    "###Import\n",
    "import sys\n",
    "\n",
    "#import geobayes_simple as gs\n",
    "from matplotlib import pyplot as plt\n",
    "from IPython.core.display import Image\n",
    "\n",
    "%matplotlib inline\n",
    "import pymc as pm\n",
    "from pymc.Matplot import plot\n",
    "import numpy as np\n",
    "from IPython.core.pylabtools import figsize\n",
    "figsize(15, 6)\n",
    "import seaborn\n",
    "seaborn.set_context(font_scale=2)\n",
    "seaborn.set_style(\"white\")\n",
    "\n",
    "from pymc import graph\n",
    "\n",
    "import scipy.optimize as sop\n",
    "import scipy.stats as stats\n",
    "import matplotlib.mlab as mlab\n",
    "\n",
    "from scipy.signal import argrelextrema"
   ]
  },
  {
   "cell_type": "code",
   "execution_count": 12,
   "metadata": {
    "collapsed": true
   },
   "outputs": [],
   "source": [
    "fault_block = np.load('block_faults.npy') #1=hanging wall; 0=footwall\n",
    "lith_block = np.load('block_lith.npy')\n",
    "non_res = np.load('Non_res.npy')\n",
    "res = np.load('res.npy')\n",
    "seal = np.load('seal.npy')\n",
    "res2 = np.load('sec_res.npy')"
   ]
  },
  {
   "cell_type": "code",
   "execution_count": 16,
   "metadata": {
    "collapsed": true
   },
   "outputs": [],
   "source": [
    "#spill_z = 21.164197799910983\n",
    "#leak_z = 20.293855462612264\n",
    "resolution = 50\n",
    "model_size = 2000\n",
    "scale_factor = (model_size/resolution) #original grid in [m]/grid resolution --> what if model not cubic?"
   ]
  },
  {
   "cell_type": "code",
   "execution_count": 5,
   "metadata": {
    "collapsed": true
   },
   "outputs": [],
   "source": [
    "#finding the spill point \n",
    "def spill_point(res_top):\n",
    "    mini = argrelextrema(res[:,2], np.less, order=10)\n",
    "    minima = np.array(list(zip(np.take(res[:,1], mini[0]), np.take(res[:,0], mini[0]), np.take(res[:,2], mini[0]))))\n",
    "    fault_thresh = minima[:,1] > 18 #taking only relevant side by setting a threshold visually estimated, best: 20\n",
    "    min_corr_side = minima[fault_thresh]\n",
    "    spill_pos = np.array(np.argmax(min_corr_side[:,2]))\n",
    "    spill_z = np.take(min_corr_side[:,2], spill_pos)\n",
    "    spill_point = np.array([np.take(min_corr_side[:,1], spill_pos), np.take(min_corr_side[:,0], spill_pos), np.take(min_corr_side[:,2], spill_pos)])\n",
    "    return(spill_z)"
   ]
  },
  {
   "cell_type": "code",
   "execution_count": 6,
   "metadata": {
    "collapsed": true
   },
   "outputs": [],
   "source": [
    "def leak_point(res_top):\n",
    "    counter = 0\n",
    "\n",
    "    xvals = []\n",
    "    yvals = []\n",
    "    zvals = []\n",
    "    leak_min = np.empty([3,], dtype=int)\n",
    "    \n",
    "    while counter < resolution:\n",
    "        for e in res:\n",
    "            if e[1] == counter:\n",
    "                xvals.append(e[0])\n",
    "                yvals.append(e[1])\n",
    "                zvals.append(e[2])\n",
    "              \n",
    "        zvals = np.array(zvals)\n",
    "        min_pos = argrelextrema(zvals, np.less, order=10)\n",
    "        yvals = np.array(yvals)\n",
    "        xvals = np.array(xvals)\n",
    "        ypos = yvals[min_pos]\n",
    "        xpos = xvals[min_pos]\n",
    "        mins = zvals[min_pos]\n",
    "        \n",
    "        np.append(leak_min, mins)\n",
    "        mins_pos = np.array(list(zip(xpos, ypos, mins)))\n",
    "        leak_min = np.vstack((leak_min, mins_pos))\n",
    "\n",
    "        xvals = []\n",
    "        yvals = []\n",
    "        zvals = []\n",
    "    \n",
    "        counter += 1\n",
    "        \n",
    "    leak_min = np.delete(leak_min, 0, 0)\n",
    "    \n",
    "    near_fault_thresh = leak_min[:,0] < 30 #taking only relevant side by setting a threshold visually estimated, best: 20\n",
    "    leak_line = leak_min[near_fault_thresh]\n",
    "    \n",
    "    leak_pos = np.array(np.argmax(leak_line[:,2]))\n",
    "    leak_z = np.take(leak_line[:,2], leak_pos)\n",
    "\n",
    "    leak_p = np.array([np.take(leak_line[:,1], leak_pos), np.take(leak_line[:,0], leak_pos), np.take(leak_line[:,2], leak_pos)])\n",
    "    \n",
    "    return(leak_z)"
   ]
  },
  {
   "cell_type": "code",
   "execution_count": 7,
   "metadata": {
    "collapsed": true
   },
   "outputs": [],
   "source": [
    "def max_res_vol(lith, fault, res_top):\n",
    "    #calculate spill point\n",
    "    spill_z = spill_point(res_top)\n",
    "    #calculate leak point\n",
    "    leak_z = leak_point(res_top)\n",
    "    \n",
    "    #check for \"down-to\" z horizon, maximum depth of reservoir\n",
    "    max_z = np.max([spill_z, leak_z])\n",
    "    \n",
    "    if max_z == spill_z:\n",
    "        print(\"Down to spill.\")\n",
    "    else:\n",
    "        print(\"Down to leak.\")\n",
    "    \n",
    "    #reducing lithology to reservoir and non.reservoir\n",
    "    lith[fault.astype(bool)] = 6\n",
    "    lith = lith.reshape(50,50,50)\n",
    "    lith[:,:,:max_z] = 6\n",
    "    lith = lith.reshape(125000,)\n",
    "    \n",
    "    #counting reservoir cells\n",
    "    vol_cells = 0\n",
    "    for i in range(lith.shape[0]):\n",
    "        if lith[i] != 5:\n",
    "            lith[i] = 6\n",
    "        else:\n",
    "            vol_cells += 1\n",
    "    \n",
    "    #calulate volume from cells\n",
    "    res_vol = ((scale_factor)**3) * vol_cells\n",
    "    \n",
    "    #return the maximum reservoir volume\n",
    "    return(res_vol)\n",
    "    "
   ]
  },
  {
   "cell_type": "code",
   "execution_count": 8,
   "metadata": {},
   "outputs": [
    {
     "name": "stdout",
     "output_type": "stream",
     "text": [
      "Down to spill.\n",
      "Maximum reservoir volume: 39040000.0 m³\n"
     ]
    },
    {
     "name": "stderr",
     "output_type": "stream",
     "text": [
      "/home/bl9/anaconda3/lib/python3.5/site-packages/ipykernel_launcher.py:18: VisibleDeprecationWarning: using a non-integer number instead of an integer will result in an error in the future\n"
     ]
    }
   ],
   "source": [
    "print(\"Maximum reservoir volume: %s m³\" % max_res_vol(lith_block, fault_block, res))"
   ]
  },
  {
   "cell_type": "code",
   "execution_count": 9,
   "metadata": {
    "collapsed": true
   },
   "outputs": [],
   "source": [
    "def recov_res(vol, porosity, sat_wat, form_f, RF):\n",
    "    ooip = (vol*porosity*(1-sat_wat))/(form_f)\n",
    "    recov = ooip * RF\n",
    "    return(recov)"
   ]
  },
  {
   "cell_type": "code",
   "execution_count": 10,
   "metadata": {},
   "outputs": [
    {
     "name": "stdout",
     "output_type": "stream",
     "text": [
      "Down to spill.\n",
      "Maximum recoverable reserves: 3513600.0 m³\n"
     ]
    },
    {
     "name": "stderr",
     "output_type": "stream",
     "text": [
      "/home/bl9/anaconda3/lib/python3.5/site-packages/ipykernel_launcher.py:18: VisibleDeprecationWarning: using a non-integer number instead of an integer will result in an error in the future\n"
     ]
    }
   ],
   "source": [
    "recoverable_reserves = recov_res(vol=max_res_vol(lith_block, fault_block, res), porosity=0.3, sat_wat = 0.5, form_f = 1.5, RF = 0.9)\n",
    "print(\"Maximum recoverable reserves: %s m³\" % recoverable_reserves)"
   ]
  },
  {
   "cell_type": "code",
   "execution_count": null,
   "metadata": {
    "collapsed": true
   },
   "outputs": [],
   "source": []
  }
 ],
 "metadata": {
  "kernelspec": {
   "display_name": "Python 3",
   "language": "python",
   "name": "python3"
  },
  "language_info": {
   "codemirror_mode": {
    "name": "ipython",
    "version": 3
   },
   "file_extension": ".py",
   "mimetype": "text/x-python",
   "name": "python",
   "nbconvert_exporter": "python",
   "pygments_lexer": "ipython3",
   "version": "3.6.2"
  }
 },
 "nbformat": 4,
 "nbformat_minor": 2
}
