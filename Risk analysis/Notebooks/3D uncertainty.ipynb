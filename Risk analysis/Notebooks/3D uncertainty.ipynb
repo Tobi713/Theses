{
 "cells": [
  {
   "cell_type": "code",
   "execution_count": 1,
   "metadata": {},
   "outputs": [
    {
     "name": "stderr",
     "output_type": "stream",
     "text": [
      "/home/bl9/gempy/gempy/GemPy_f.py:31: UserWarning: Vtk package is not installed. No vtk visualization available.\n",
      "  warnings.warn('Vtk package is not installed. No vtk visualization available.')\n"
     ]
    }
   ],
   "source": [
    "import sys\n",
    "sys.path.append(\"/home/bl9/gempy/\")\n",
    "import gempy as gp\n",
    "\n",
    "%matplotlib inline\n",
    "import pymc\n",
    "import numpy as np\n",
    "import math\n",
    "\n",
    "#import geobayes_simple as gs\n",
    "from IPython.core.display import Image\n",
    "\n",
    "from pymc.Matplot import plot\n",
    "from pymc import graph\n",
    "\n",
    "from IPython.core.pylabtools import figsize\n",
    "figsize(15, 6)\n",
    "\n",
    "#import seaborn\n",
    "#seaborn.set_context(font_scale=2)\n",
    "#seaborn.set_style(\"white\")\n",
    "\n",
    "import scipy.optimize as sop\n",
    "import scipy.stats as stats\n",
    "from scipy.signal import argrelextrema\n",
    "\n",
    "import matplotlib.mlab as mlab\n",
    "from matplotlib import pyplot as plt\n",
    "\n",
    "#import visualization_vtk as vv"
   ]
  },
  {
   "cell_type": "code",
   "execution_count": 2,
   "metadata": {
    "collapsed": true
   },
   "outputs": [],
   "source": [
    "geo_data = gp.read_pickle(\"/home/bl9/gempy/Tutorial/BasicFault.pickle\")\n",
    "geo_data.n_faults = 1"
   ]
  },
  {
   "cell_type": "code",
   "execution_count": 3,
   "metadata": {
    "collapsed": true
   },
   "outputs": [],
   "source": [
    "# stdev for x,y,z interface coordinates\n",
    "geo_data.interfaces['X_std'] = None\n",
    "geo_data.interfaces['Y_std'] = None\n",
    "geo_data.interfaces['Z_std'] = None\n",
    "geo_data.interfaces['dist_type'] = \"Normal\" # should be initially None\n",
    "geo_data.interfaces['X_dist'] = None\n",
    "geo_data.interfaces['Y_dist'] = None\n",
    "geo_data.interfaces['Z_dist'] = None"
   ]
  },
  {
   "cell_type": "code",
   "execution_count": 4,
   "metadata": {},
   "outputs": [
    {
     "data": {
      "text/html": [
       "<div>\n",
       "<style>\n",
       "    .dataframe thead tr:only-child th {\n",
       "        text-align: right;\n",
       "    }\n",
       "\n",
       "    .dataframe thead th {\n",
       "        text-align: left;\n",
       "    }\n",
       "\n",
       "    .dataframe tbody tr th {\n",
       "        vertical-align: top;\n",
       "    }\n",
       "</style>\n",
       "<table border=\"1\" class=\"dataframe\">\n",
       "  <thead>\n",
       "    <tr style=\"text-align: right;\">\n",
       "      <th></th>\n",
       "      <th>X</th>\n",
       "      <th>Y</th>\n",
       "      <th>Z</th>\n",
       "      <th>formation</th>\n",
       "      <th>series</th>\n",
       "      <th>order_series</th>\n",
       "      <th>isFault</th>\n",
       "      <th>X_std</th>\n",
       "      <th>Y_std</th>\n",
       "      <th>Z_std</th>\n",
       "      <th>dist_type</th>\n",
       "      <th>X_dist</th>\n",
       "      <th>Y_dist</th>\n",
       "      <th>Z_dist</th>\n",
       "    </tr>\n",
       "  </thead>\n",
       "  <tbody>\n",
       "    <tr>\n",
       "      <th>0</th>\n",
       "      <td>800.0</td>\n",
       "      <td>1000.0</td>\n",
       "      <td>-1600.0</td>\n",
       "      <td>MainFault</td>\n",
       "      <td>fault</td>\n",
       "      <td>1</td>\n",
       "      <td>True</td>\n",
       "      <td>None</td>\n",
       "      <td>None</td>\n",
       "      <td>None</td>\n",
       "      <td>Normal</td>\n",
       "      <td>None</td>\n",
       "      <td>None</td>\n",
       "      <td>None</td>\n",
       "    </tr>\n",
       "    <tr>\n",
       "      <th>1</th>\n",
       "      <td>1200.0</td>\n",
       "      <td>1000.0</td>\n",
       "      <td>-400.0</td>\n",
       "      <td>MainFault</td>\n",
       "      <td>fault</td>\n",
       "      <td>1</td>\n",
       "      <td>True</td>\n",
       "      <td>None</td>\n",
       "      <td>None</td>\n",
       "      <td>None</td>\n",
       "      <td>Normal</td>\n",
       "      <td>None</td>\n",
       "      <td>None</td>\n",
       "      <td>None</td>\n",
       "    </tr>\n",
       "    <tr>\n",
       "      <th>2</th>\n",
       "      <td>1100.0</td>\n",
       "      <td>1000.0</td>\n",
       "      <td>-700.0</td>\n",
       "      <td>MainFault</td>\n",
       "      <td>fault</td>\n",
       "      <td>1</td>\n",
       "      <td>True</td>\n",
       "      <td>None</td>\n",
       "      <td>None</td>\n",
       "      <td>None</td>\n",
       "      <td>Normal</td>\n",
       "      <td>None</td>\n",
       "      <td>None</td>\n",
       "      <td>None</td>\n",
       "    </tr>\n",
       "    <tr>\n",
       "      <th>3</th>\n",
       "      <td>900.0</td>\n",
       "      <td>1000.0</td>\n",
       "      <td>-1300.0</td>\n",
       "      <td>MainFault</td>\n",
       "      <td>fault</td>\n",
       "      <td>1</td>\n",
       "      <td>True</td>\n",
       "      <td>None</td>\n",
       "      <td>None</td>\n",
       "      <td>None</td>\n",
       "      <td>Normal</td>\n",
       "      <td>None</td>\n",
       "      <td>None</td>\n",
       "      <td>None</td>\n",
       "    </tr>\n",
       "    <tr>\n",
       "      <th>4</th>\n",
       "      <td>1000.0</td>\n",
       "      <td>1000.0</td>\n",
       "      <td>-1000.0</td>\n",
       "      <td>MainFault</td>\n",
       "      <td>fault</td>\n",
       "      <td>1</td>\n",
       "      <td>True</td>\n",
       "      <td>None</td>\n",
       "      <td>None</td>\n",
       "      <td>None</td>\n",
       "      <td>Normal</td>\n",
       "      <td>None</td>\n",
       "      <td>None</td>\n",
       "      <td>None</td>\n",
       "    </tr>\n",
       "  </tbody>\n",
       "</table>\n",
       "</div>"
      ],
      "text/plain": [
       "        X       Y       Z  formation series  order_series  isFault X_std  \\\n",
       "0   800.0  1000.0 -1600.0  MainFault  fault             1     True  None   \n",
       "1  1200.0  1000.0  -400.0  MainFault  fault             1     True  None   \n",
       "2  1100.0  1000.0  -700.0  MainFault  fault             1     True  None   \n",
       "3   900.0  1000.0 -1300.0  MainFault  fault             1     True  None   \n",
       "4  1000.0  1000.0 -1000.0  MainFault  fault             1     True  None   \n",
       "\n",
       "  Y_std Z_std dist_type X_dist Y_dist Z_dist  \n",
       "0  None  None    Normal   None   None   None  \n",
       "1  None  None    Normal   None   None   None  \n",
       "2  None  None    Normal   None   None   None  \n",
       "3  None  None    Normal   None   None   None  \n",
       "4  None  None    Normal   None   None   None  "
      ]
     },
     "execution_count": 4,
     "metadata": {},
     "output_type": "execute_result"
    }
   ],
   "source": [
    "geo_data.interfaces.head()"
   ]
  },
  {
   "cell_type": "code",
   "execution_count": 5,
   "metadata": {
    "collapsed": true
   },
   "outputs": [],
   "source": [
    "#geo_data.interfaces[\"Z_std\"].iloc[0] = 500\n"
   ]
  },
  {
   "cell_type": "code",
   "execution_count": 6,
   "metadata": {},
   "outputs": [
    {
     "name": "stdout",
     "output_type": "stream",
     "text": [
      "float32\n",
      "[2, 2]\n"
     ]
    }
   ],
   "source": [
    "interp_data = gp.InterpolatorInput(geo_data, \n",
    "                                   u_grade = [3, 3],\n",
    "                                   compile_theano=True)"
   ]
  },
  {
   "cell_type": "code",
   "execution_count": 7,
   "metadata": {},
   "outputs": [
    {
     "name": "stdout",
     "output_type": "stream",
     "text": [
      "[3, 3]\n"
     ]
    }
   ],
   "source": [
    "sol = gp.compute_model(interp_data)"
   ]
  },
  {
   "cell_type": "code",
   "execution_count": 8,
   "metadata": {},
   "outputs": [
    {
     "data": {
      "text/plain": [
       "<gempy.Visualization.PlotData at 0x7f16efcbf518>"
      ]
     },
     "execution_count": 8,
     "metadata": {},
     "output_type": "execute_result"
    },
    {
     "data": {
      "image/png": "[encoded data removed]",
      "text/plain": [
       "<matplotlib.figure.Figure at 0x7f16efcbf898>"
      ]
     },
     "metadata": {},
     "output_type": "display_data"
    }
   ],
   "source": [
    "gp.plot_section(geo_data, sol[0], 25)"
   ]
  },
  {
   "cell_type": "code",
   "execution_count": 14,
   "metadata": {},
   "outputs": [
    {
     "data": {
      "text/plain": [
       "{'DefaultBasement': 0,\n",
       " 'MainFault': 1,\n",
       " 'NonReservoirDeep': 5,\n",
       " 'Reservoir': 2,\n",
       " 'Seal': 4,\n",
       " 'SecondaryReservoir': 3}"
      ]
     },
     "execution_count": 14,
     "metadata": {},
     "output_type": "execute_result"
    }
   ],
   "source": [
    "interp_data.get_formation_number()"
   ]
  },
  {
   "cell_type": "code",
   "execution_count": 60,
   "metadata": {},
   "outputs": [],
   "source": [
    "i,s = gp.get_surface(sol[1, :], interp_data, 2)"
   ]
  },
  {
   "cell_type": "code",
   "execution_count": 61,
   "metadata": {},
   "outputs": [
    {
     "data": {
      "text/plain": [
       "array([[    2.01844171,    40.        , -1040.        ],\n",
       "       [    0.        ,     0.        , -1048.44429016],\n",
       "       [    0.        ,    37.59976625, -1040.        ],\n",
       "       ..., \n",
       "       [ 1960.        ,  1880.        , -1159.31632996],\n",
       "       [ 1960.        ,  1920.        , -1146.146698  ],\n",
       "       [ 1960.        ,  1960.        , -1132.09236145]])"
      ]
     },
     "execution_count": 61,
     "metadata": {},
     "output_type": "execute_result"
    }
   ],
   "source": [
    "i"
   ]
  },
  {
   "cell_type": "code",
   "execution_count": 62,
   "metadata": {},
   "outputs": [
    {
     "data": {
      "text/plain": [
       "[<matplotlib.lines.Line2D at 0x7f16d9d21278>]"
      ]
     },
     "execution_count": 62,
     "metadata": {},
     "output_type": "execute_result"
    },
    {
     "data": {
      "image/png": "[encoded data removed]",
      "text/plain": [
       "<matplotlib.figure.Figure at 0x7f16f0801c18>"
      ]
     },
     "metadata": {},
     "output_type": "display_data"
    }
   ],
   "source": [
    "plt.plot(i[:,2])"
   ]
  },
  {
   "cell_type": "code",
   "execution_count": 151,
   "metadata": {
    "collapsed": true
   },
   "outputs": [],
   "source": [
    "z_res_top = pymc.Normal('z_unc_res', 0, 500)"
   ]
  },
  {
   "cell_type": "code",
   "execution_count": 152,
   "metadata": {},
   "outputs": [
    {
     "name": "stdout",
     "output_type": "stream",
     "text": [
      "0.04144801532503606\n"
     ]
    }
   ],
   "source": [
    "@pymc.deterministic\n",
    "def z_model(input_ = i, z_unc = z_res_top):\n",
    "    iu = input_[:,2] + z_unc\n",
    "    print(z_unc)\n",
    "    return iu"
   ]
  },
  {
   "cell_type": "code",
   "execution_count": 153,
   "metadata": {
    "collapsed": true
   },
   "outputs": [],
   "source": [
    "iterations = 10"
   ]
  },
  {
   "cell_type": "code",
   "execution_count": 154,
   "metadata": {},
   "outputs": [],
   "source": [
    "# set model\n",
    "model = pymc.Model([z_res_top, z_model])"
   ]
  },
  {
   "cell_type": "code",
   "execution_count": 155,
   "metadata": {},
   "outputs": [
    {
     "name": "stdout",
     "output_type": "stream",
     "text": [
      "-0.0019931078380099093\n",
      "0.03556495521368601\n",
      "0.017467876971447836\n",
      "0.014364002956749673\n",
      "0.012710161616852372\n",
      "0.0010125167683701234\n",
      "-0.023894528143687567\n",
      "-0.05094842206177364\n",
      "0.0315057996505663\n",
      "0.03859293075317752\n",
      "\r",
      " [-----------------100%-----------------] 10 of 10 complete in 0.0 sec"
     ]
    }
   ],
   "source": [
    "M = pymc.MCMC(model)\n",
    "M.sample(iter=10)"
   ]
  },
  {
   "cell_type": "code",
   "execution_count": 142,
   "metadata": {},
   "outputs": [],
   "source": [
    "bla = M.trace('z_model')[:]\n"
   ]
  },
  {
   "cell_type": "code",
   "execution_count": 143,
   "metadata": {},
   "outputs": [
    {
     "data": {
      "text/plain": [
       "array([[ 1462.27756491,  1453.83327475,  1462.27756491, ...,\n",
       "         1342.96123495,  1356.13086691,  1370.18520346],\n",
       "       [ 1462.33221552,  1453.88792536,  1462.33221552, ...,\n",
       "         1343.01588556,  1356.18551752,  1370.23985407],\n",
       "       [ 1462.36007784,  1453.91578768,  1462.36007784, ...,\n",
       "         1343.04374788,  1356.21337984,  1370.26771639],\n",
       "       ..., \n",
       "       [ 1462.19741033,  1453.75312016,  1462.19741033, ...,\n",
       "         1342.88108037,  1356.05071233,  1370.10504888],\n",
       "       [ 1462.39760747,  1453.95331731,  1462.39760747, ...,\n",
       "         1343.08127751,  1356.25090947,  1370.30524602],\n",
       "       [ 1462.31458498,  1453.87029482,  1462.31458498, ...,\n",
       "         1342.99825503,  1356.16788699,  1370.22222353]])"
      ]
     },
     "execution_count": 143,
     "metadata": {},
     "output_type": "execute_result"
    }
   ],
   "source": [
    "bla"
   ]
  },
  {
   "cell_type": "code",
   "execution_count": 144,
   "metadata": {},
   "outputs": [
    {
     "data": {
      "text/plain": [
       "[<matplotlib.lines.Line2D at 0x7f16cc941a20>]"
      ]
     },
     "execution_count": 144,
     "metadata": {},
     "output_type": "execute_result"
    },
    {
     "data": {
      "image/png": "[encoded data removed]",
      "text/plain": [
       "<matplotlib.figure.Figure at 0x7f16cc91e198>"
      ]
     },
     "metadata": {},
     "output_type": "display_data"
    }
   ],
   "source": [
    "plt.plot(bla[1])"
   ]
  },
  {
   "cell_type": "code",
   "execution_count": 114,
   "metadata": {},
   "outputs": [
    {
     "data": {
      "text/plain": [
       "625"
      ]
     },
     "execution_count": 114,
     "metadata": {},
     "output_type": "execute_result"
    }
   ],
   "source": [
    "np.square(25)"
   ]
  },
  {
   "cell_type": "code",
   "execution_count": null,
   "metadata": {
    "collapsed": true
   },
   "outputs": [],
   "source": []
  }
 ],
 "metadata": {
  "kernelspec": {
   "display_name": "Python 3",
   "language": "python",
   "name": "python3"
  },
  "language_info": {
   "codemirror_mode": {
    "name": "ipython",
    "version": 3
   },
   "file_extension": ".py",
   "mimetype": "text/x-python",
   "name": "python",
   "nbconvert_exporter": "python",
   "pygments_lexer": "ipython3",
   "version": "3.5.3"
  }
 },
 "nbformat": 4,
 "nbformat_minor": 2
}
