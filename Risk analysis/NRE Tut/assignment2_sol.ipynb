{
 "cells": [
  {
   "cell_type": "markdown",
   "metadata": {},
   "source": [
    "# NRE1 - Assignment 2"
   ]
  },
  {
   "cell_type": "markdown",
   "metadata": {},
   "source": [
    "**Note**: This notebook is a graded assignment. It counts **25% to your final mark** in the exercise with **25 points** to be achieved in total, plus an additional **5 bonus points**! You can work on this assignment alone or together in a group of two. \n",
    "\n",
    "**Please upload your assignment on L²p.**"
   ]
  },
  {
   "cell_type": "markdown",
   "metadata": {},
   "source": [
    "Before you submit this assignment, make sure everything runs as you expect it to.  \n",
    "* **restart the kernel** (in the menubar, select Kernel -> Restart)\n",
    "* **run all cells** (in the menubar, select Cell -> Run All)\n",
    "\n",
    "Make sure to fill in any place that says:\n",
    "```python\n",
    "# YOUR CODE HERE\n",
    "```\n",
    "or\n",
    "\n",
    "    YOUR ANSWER HERE\n",
    "\n",
    "You need to delete every line of code that says:\n",
    "```python\n",
    "raise NotImplementedError()\n",
    "```\n",
    "\n",
    "Please fill in your name (and of your fellow student, if you submit together), and according matriculation number below. If you are more than one student, separate by a comma **,**"
   ]
  },
  {
   "cell_type": "code",
   "execution_count": 2,
   "metadata": {
    "collapsed": true
   },
   "outputs": [],
   "source": [
    "NAME = \"\"\n",
    "MATNUM = \"\""
   ]
  },
  {
   "cell_type": "code",
   "execution_count": 3,
   "metadata": {
    "collapsed": true
   },
   "outputs": [],
   "source": [
    "# here the usual imports:\n",
    "import numpy as np\n",
    "import matplotlib.pyplot as plt\n",
    "%matplotlib inline"
   ]
  },
  {
   "cell_type": "markdown",
   "metadata": {},
   "source": [
    "## Preliminaries\n",
    "\n",
    "In this assignment notebook, you will **apply your new knowledge about functions and plot generation** together with the **efficient numerical methods** implemented in the `numpy` module to solve problems related to regression and interpolation in space. The focus of this assignment will be to implement new programming concepts and to apply those to problems we discussed in class.\n",
    "\n",
    "One more remark on the IPython notebooks: the \"standard layout\" is a bit plain and the \"endless text cells\" can be a bit annoying. I created a little css style-sheet (called `nre1_style.css`) and uploaded it to L2P. If you download this file and place it in the same folder as this notebook, then you can adjust the notebooks style when you execute the following cell (after removing the #'s):\n"
   ]
  },
  {
   "cell_type": "code",
   "execution_count": 4,
   "metadata": {
    "collapsed": true
   },
   "outputs": [],
   "source": [
    "#from IPython.core.display import HTML\n",
    "#css_file = 'nre1_style.css'\n",
    "#HTML(open(css_file, \"r\").read())"
   ]
  },
  {
   "cell_type": "markdown",
   "metadata": {},
   "source": [
    "## Task 1: linear interpolation with vectorised functions\n",
    "\n",
    "You learned about the use of efficient numerical methods in the exercise notebook on the `numpy` module. One of the most important aspects of the `numpy` module is the use of vectors and functions that operate directly on these vectors, the so-called \"vectorised functions\".\n",
    "\n",
    "One main point that you should always have in your mind is that it is better to use vectorised functions instead of loops, whenever this is possible. In your first assignment task, you will test the higher efficiency with a linear interpolation function and compare it to the implementation with loops of the first assignment.\n",
    "\n",
    "Recall the equations that we derived for linear regression:\n",
    "\n",
    "$$n a_0 + a_1 \\sum_{i=1}^n x_i = \\sum_{i=1}^n y_i$$\n",
    "\n",
    "$$ a_0 \\sum_{i=1}^n x_i + a_1 \\sum_{i=1}^n x_i^2 = \\sum_{i=1}^n x_i y_i$$\n",
    "\n",
    "**Your task (5 pts)**: complete the function below to perform the summation operations with vectorised functions instead of the loops and solve the system of linear equations:\n"
   ]
  },
  {
   "cell_type": "code",
   "execution_count": 5,
   "metadata": {
    "collapsed": true,
    "nbgrader": {
     "grade": false,
     "grade_id": "reg_vec",
     "locked": false,
     "schema_version": 1,
     "solution": true
    }
   },
   "outputs": [],
   "source": [
    "def lin_regression_vectorised(x, y):\n",
    "    \"\"\"Perform linear regression with vectorised numpy functions\n",
    "    \n",
    "    **Arguments**:\n",
    "    \n",
    "    x : numpy-array with x-values\n",
    "    y : numpy-array with y-values\n",
    "    \n",
    "    **Returns**:\n",
    "    \n",
    "    (a0, a1) : tuple of two numbers\n",
    "    \"\"\"    \n",
    "    ### BEGIN SOLUTION\n",
    "    # implement the required summations:\n",
    "    sum_x_i = np.sum(x)\n",
    "    sum_y_i = np.sum(y)\n",
    "    sum_x_i_squared = np.sum(x * x)\n",
    "    sum_x_i_y_i = np.sum(x * y)\n",
    "    \n",
    "    # this step solves the system of linear equations:\n",
    "    a0, a1 = np.linalg.solve([[len(x), sum_x_i],[sum_x_i, sum_x_i_squared]], [sum_y_i, sum_x_i_y_i])\n",
    "\n",
    "    return a0, a1\n",
    "    ### END SOLUTION"
   ]
  },
  {
   "cell_type": "code",
   "execution_count": 6,
   "metadata": {
    "collapsed": true,
    "nbgrader": {
     "grade": true,
     "grade_id": "reg_vec_test",
     "locked": true,
     "points": 5,
     "schema_version": 1,
     "solution": false
    }
   },
   "outputs": [],
   "source": [
    "# Cell used for autograding. DO NOT EDIT!\n",
    "### BEGIN HIDDEN TESTS\n",
    "assert lin_regression_vectorised (np.arange(0.,5.), np.arange(5.,10.)) == (5., 1.)\n",
    "### END HIDDEN TESTS"
   ]
  },
  {
   "cell_type": "code",
   "execution_count": 7,
   "metadata": {},
   "outputs": [
    {
     "data": {
      "text/plain": [
       "(5.0, 1.0)"
      ]
     },
     "execution_count": 7,
     "metadata": {},
     "output_type": "execute_result"
    }
   ],
   "source": [
    "lin_regression_vectorised(np.arange(0.,5.), np.arange(5.,10.))# == (5., 1.)"
   ]
  },
  {
   "cell_type": "markdown",
   "metadata": {},
   "source": [
    "For comparison of the two implementations, complete the following function to perform the sums with loops (note: this is mostly copy-and-paste if you successfully finished the first assignment):"
   ]
  },
  {
   "cell_type": "code",
   "execution_count": 8,
   "metadata": {
    "collapsed": true
   },
   "outputs": [],
   "source": [
    "def lin_regression_loops(x, y):\n",
    "    \"\"\"Perform linear regression with basic python loops    \n",
    "    \n",
    "    **Arguments**:\n",
    "    \n",
    "    x : python list or numpy-arary with x-values\n",
    "    y : python list or numpy-array with y-values\n",
    "    \n",
    "    **Returns**:\n",
    "    \n",
    "    (a0, a1) : tuple of two numbers\n",
    "    \"\"\"\n",
    "    # YOUR CODE HERE  \n",
    "    sum_x_i = 0\n",
    "    sum_y_i = 0\n",
    "    sum_x_i_squared = 0\n",
    "    sum_x_i_y_i = 0\n",
    "\n",
    "    for i in range(len(x)):\n",
    "        sum_x_i = sum_x_i + x[i]\n",
    "        sum_y_i = sum_y_i + y[i]\n",
    "        sum_x_i_squared = sum_x_i_squared + x[i]**2\n",
    "        sum_x_i_y_i = sum_x_i_y_i + x[i] * y[i]\n",
    "        \n",
    "    a0, a1 = np.linalg.solve([[len(x), sum_x_i],[sum_x_i, sum_x_i_squared]], [sum_y_i, sum_x_i_y_i])\n",
    "    return a0, a1"
   ]
  },
  {
   "cell_type": "markdown",
   "metadata": {},
   "source": [
    "As a little test, use the data in the following two arrays to test your functions:"
   ]
  },
  {
   "cell_type": "code",
   "execution_count": 9,
   "metadata": {},
   "outputs": [
    {
     "name": "stdout",
     "output_type": "stream",
     "text": [
      "(0.012857142857143693, 0.85857142857142832)\n",
      "(0.012857142857143693, 0.85857142857142832)\n"
     ]
    }
   ],
   "source": [
    "x = np.array([1., 2., 3., 4., 5., 6., 7.])\n",
    "y = np.array([0.42, 2.32, 2.12, 4.31, 3.45, 5.92, 5.59])\n",
    "print(lin_regression_loops(x, y))\n",
    "print(lin_regression_vectorised(x, y))"
   ]
  },
  {
   "cell_type": "markdown",
   "metadata": {},
   "source": [
    "If you compare the code of the vectorised function with the implementation with loops you can see another advantage of using vectorised functions: they usually provide a clearer and more easy to read implementation. Basically, it is often possible to write equations in code almost as you would write them down on paper. We will see more of this behaviour in the future."
   ]
  },
  {
   "cell_type": "markdown",
   "metadata": {},
   "source": [
    "## Task 2 (5 pts): Comparing execution time\n",
    "\n",
    "I stated above that vectorised functions are more efficent than loops and that you should use them when you can. However, I didn't provide a proof for this statement, yet. So in this task, you will use the `%%timeit` function to compare the execution time of the two functions and to test my claim.\n",
    "\n",
    "Recall: The `%%timeit` function is a so-called \"magic function\". These functions are extensions to basic Python functions which are only available in IPython and they usually perform operations for one code cell. To call the `%%timeit` function, you write it in the top of a code cell and then add the lines of codes for which you want to check the execution time. These lines are then executed a couple of times to obtain a good approximation.\n",
    "\n",
    "Here is an example to test the execution time of a function:"
   ]
  },
  {
   "cell_type": "code",
   "execution_count": 10,
   "metadata": {},
   "outputs": [
    {
     "name": "stdout",
     "output_type": "stream",
     "text": [
      "66.5 µs ± 2.09 µs per loop (mean ± std. dev. of 7 runs, 10000 loops each)\n"
     ]
    }
   ],
   "source": [
    "%%timeit \n",
    "# calculate the sine for a number of values:\n",
    "x_vals = np.linspace(0,2*np.pi,1000)\n",
    "np.sin(x_vals)"
   ]
  },
  {
   "cell_type": "markdown",
   "metadata": {},
   "source": [
    "As you can see from the output, the lines of code are executed a number of times (in my case: 10000 times) to obtain a reasonable measure of execution speed, which is in the order of 10-25 micro-seconds.\n",
    "\n",
    "**Your task (2 pts)**: use the `%timeit` command with your code to test the execution time of the linear regression implementation with loops and with vectorised functions:"
   ]
  },
  {
   "cell_type": "code",
   "execution_count": 11,
   "metadata": {
    "nbgrader": {
     "grade": true,
     "grade_id": "time",
     "locked": false,
     "points": 2,
     "schema_version": 1,
     "solution": true
    }
   },
   "outputs": [
    {
     "name": "stdout",
     "output_type": "stream",
     "text": [
      "51.6 µs ± 224 ns per loop (mean ± std. dev. of 7 runs, 10000 loops each)\n",
      "69.1 µs ± 3.62 µs per loop (mean ± std. dev. of 7 runs, 10000 loops each)\n"
     ]
    }
   ],
   "source": [
    "# YOUR CODE HERE\n",
    "%timeit lin_regression_loops(x, y)\n",
    "%timeit lin_regression_vectorised(x, y)"
   ]
  },
  {
   "cell_type": "markdown",
   "metadata": {},
   "source": [
    "What did you observe? Which execution is faster? \n",
    "\n",
    "**Your task (1 pt)**: Describe your results in the following text cell:"
   ]
  },
  {
   "cell_type": "markdown",
   "metadata": {
    "nbgrader": {
     "grade": true,
     "grade_id": "exec_time",
     "locked": false,
     "points": 1,
     "schema_version": 1,
     "solution": true
    }
   },
   "source": [
    "Your answer here! Describe your results."
   ]
  },
  {
   "cell_type": "markdown",
   "metadata": {},
   "source": [
    "You may have realised that the results are a bit unexpected. The reason is that calling the vectorised functions requires a small amount of additional time. This means that the functions are mainly efficient for large arrays.\n",
    "\n",
    "To test the execution time for larger vectors, we will first generate some random example data:"
   ]
  },
  {
   "cell_type": "code",
   "execution_count": 14,
   "metadata": {},
   "outputs": [
    {
     "data": {
      "text/plain": [
       "<matplotlib.text.Text at 0x7f15d1bbab00>"
      ]
     },
     "execution_count": 14,
     "metadata": {},
     "output_type": "execute_result"
    },
    {
     "data": {
      "image/png": "[encoded data removed]",
      "text/plain": [
       "<matplotlib.figure.Figure at 0x7f15d51d05c0>"
      ]
     },
     "metadata": {},
     "output_type": "display_data"
    }
   ],
   "source": [
    "# test with a longer vector:\n",
    "n_samples = 1000 # define number of samples\n",
    "# generate linearly spaced samples between 0 and 10:\n",
    "x = np.linspace(0,10,n_samples) \n",
    "# draw random values from standard normal distribution (zero mean):\n",
    "y = np.random.randn(n_samples)\n",
    "# and we create a plot to visualise our samples:\n",
    "plt.plot(x,y, '.')\n",
    "plt.xlabel('x')\n",
    "plt.ylabel('y')\n",
    "plt.title('Random samples from normal distribution')"
   ]
  },
  {
   "cell_type": "markdown",
   "metadata": {},
   "source": [
    "**Your task (2 pts)**: Evaluate execution time for the two functions as before and discuss the results: "
   ]
  },
  {
   "cell_type": "code",
   "execution_count": 15,
   "metadata": {},
   "outputs": [
    {
     "name": "stdout",
     "output_type": "stream",
     "text": [
      "1.99 ms ± 107 µs per loop (mean ± std. dev. of 7 runs, 100 loops each)\n",
      "82.1 µs ± 5.56 µs per loop (mean ± std. dev. of 7 runs, 10000 loops each)\n"
     ]
    }
   ],
   "source": [
    "# YOUR CODE HERE\n",
    "%timeit lin_regression_loops(x, y)\n",
    "%timeit lin_regression_vectorised(x, y)"
   ]
  },
  {
   "cell_type": "markdown",
   "metadata": {
    "nbgrader": {
     "grade": true,
     "grade_id": "exec_time2",
     "locked": false,
     "points": 2,
     "schema_version": 1,
     "solution": true
    }
   },
   "source": [
    "Your answer here! Describe your results."
   ]
  },
  {
   "cell_type": "markdown",
   "metadata": {},
   "source": [
    "## Task 3: Linear interpolation with Lagrange interpolation\n",
    "\n",
    "We discussed the formulation of Lagrange interpolating polynomials during the lecture. An big advantage of these polynomials is that the computational implementation is very straight-forward.\n",
    "\n",
    "As usual, we want to obtain an estimate for an unknown value $f(x)$ at position $x$ from observations $x_i$ with a linear combination:\n",
    "\n",
    "$$f_n(x) = \\sum_{i=0}^n L_i(x), f(x_i) \\mbox{ ,}$$\n",
    "\n",
    "where $L_i$ are the weights:\n",
    "\n",
    "$$L_i(x) =  \\prod_{j = 0, j \\ne i}^n \\frac{x - x_j}{x_i - x_j}$$\n",
    "\n",
    "The first-order linear interpolation is obtained if we set $n = 1$ as:\n",
    "\n",
    "$$f_1(x) = \\frac{x - x_1}{x_0 - x_1} f(x_0) + \\frac{x - x_0}{x_1 - x_0} f(x_1)$$\n",
    "\n",
    "**Your task (4 pts)**: Complete the function below to approximate the value at a position x given two known values  $f(x_0)$ and $f(x_1)$:\n",
    "\n"
   ]
  },
  {
   "cell_type": "code",
   "execution_count": 16,
   "metadata": {
    "collapsed": true,
    "nbgrader": {
     "grade": false,
     "grade_id": "interp",
     "locked": false,
     "schema_version": 1,
     "solution": true
    }
   },
   "outputs": [],
   "source": [
    "def linear_interp(x_0, x_1, f_x_0, f_x_1, x):\n",
    "    \"\"\"Approximate the value at position x using linear interpolation\n",
    "    \n",
    "    **Arguments**:\n",
    "    \n",
    "    x_0 : position of first point\n",
    "    f_x_0 : value at first point\n",
    "    x_1 : position of second point\n",
    "    f_x_1 : value at second point\n",
    "    x : position of value to be approximated\n",
    "\n",
    "    **Returns**:\n",
    "    \n",
    "    f_x : approximated value\n",
    "    \"\"\"\n",
    "    ### BEGIN SOLUTION\n",
    "    # include code to determine f_x\n",
    "    f_x = (x - x_1) / (x_0 - x_1) * f_x_0 + (x - x_0) / (x_1 - x_0) * f_x_1\n",
    "    return f_x\n",
    "    ### END SOLUTION"
   ]
  },
  {
   "cell_type": "code",
   "execution_count": 17,
   "metadata": {
    "collapsed": true,
    "nbgrader": {
     "grade": true,
     "grade_id": "interp_test",
     "locked": true,
     "points": 4,
     "schema_version": 1,
     "solution": false
    }
   },
   "outputs": [],
   "source": [
    "# Cell used for autograding. DO NOT EDIT!\n",
    "### BEGIN HIDDEN TESTS\n",
    "assert linear_interp(1., 2., 3., 5., 8.) == 17.\n",
    "assert linear_interp(13., 21., 34., 55., 89.) == 233.5\n",
    "### END HIDDEN TESTS"
   ]
  },
  {
   "cell_type": "markdown",
   "metadata": {},
   "source": [
    "Test your implementation for a couple of values where you know the expected results:"
   ]
  },
  {
   "cell_type": "code",
   "execution_count": 18,
   "metadata": {},
   "outputs": [
    {
     "name": "stdout",
     "output_type": "stream",
     "text": [
      "0.5\n"
     ]
    }
   ],
   "source": [
    "print(linear_interp(0,1,0,1,0.5))"
   ]
  },
  {
   "cell_type": "markdown",
   "metadata": {},
   "source": [
    "Now that we have this function, we can use it to perform piecewise linear interpolation between a set of points. We now consider three points $x_0, x_1$ and $x_2$. If we want to obtain the approximate value for a point $x$ inbetween these three points, we have to perform the following steps:\n",
    "\n",
    "1. Check if the point is within our point range ($x_0 \\le x \\le x_2$), if not: do not perform interpolation\n",
    "\n",
    "2. Determine if the position of the point $x$ is between points $x_0$ and $x_1$ or between $x_1$ and $x_2$. \n",
    "\n",
    "3. Perform the interpolation in the appropriate interval\n",
    "\n",
    "**Your task (3 pts)**: complete the function below to perform the interpolation:"
   ]
  },
  {
   "cell_type": "code",
   "execution_count": 19,
   "metadata": {
    "collapsed": true,
    "nbgrader": {
     "grade": false,
     "grade_id": "interp_points",
     "locked": false,
     "schema_version": 1,
     "solution": true
    }
   },
   "outputs": [],
   "source": [
    "def linear_interp_three_points(x_0, x_1, x_2, f_x_0, f_x_1, f_x_2, x):\n",
    "    \"\"\"Approximate the value at position x using linear interpolation\n",
    "    \n",
    "    **Arguments**:\n",
    "    \n",
    "    x_0 : position of first point\n",
    "    f_x_0 : value at first point\n",
    "    x_1 : position of second point\n",
    "    f_x_1 : value at second point\n",
    "    x_2 : position of third point\n",
    "    f_x_2 : value at third point\n",
    "    x : position of value to be approximated\n",
    "    \n",
    "    **Returns**:\n",
    "    \n",
    "    f_x : approximated value\n",
    "    \"\"\"\n",
    "    ### BEGIN SOLUTION\n",
    "    if (x < x_0) or (x > x_2):\n",
    "        print(\"Point not in range!\")\n",
    "        return None\n",
    "    \n",
    "    elif (x < x_1):\n",
    "        f_x = linear_interp(x_0, x_1, f_x_0, f_x_1, x)\n",
    "    else:\n",
    "        f_x = linear_interp(x_1, x_2, f_x_1, f_x_2, x)\n",
    "    \n",
    "    return f_x\n",
    "    ### END SOLUTION"
   ]
  },
  {
   "cell_type": "code",
   "execution_count": 20,
   "metadata": {
    "collapsed": true,
    "nbgrader": {
     "grade": true,
     "grade_id": "interp_points_test",
     "locked": true,
     "points": 3,
     "schema_version": 1,
     "solution": false
    }
   },
   "outputs": [],
   "source": [
    "# Cell used for autograding. DO NOT EDIT!\n",
    "### BEGIN HIDDEN TESTS\n",
    "assert linear_interp_three_points(1, 2, 3, 1, 2, 3, 2.5) == 2.5\n",
    "assert linear_interp_three_points(2, 4, 8, 3, 4, 1, 5.5) == 2.875\n",
    "### END HIDDEN TESTS"
   ]
  },
  {
   "cell_type": "code",
   "execution_count": 35,
   "metadata": {},
   "outputs": [
    {
     "name": "stdout",
     "output_type": "stream",
     "text": [
      "0.5\n"
     ]
    }
   ],
   "source": [
    "# To test your code, try some examples:\n",
    "# first, define some points and values:\n",
    "x_0 = 0\n",
    "x_1 = 1\n",
    "x_2 = 2\n",
    "f_x_0 = 0\n",
    "f_x_1 = 1\n",
    "f_x_2 = 0\n",
    "# and now the position to be approximated:\n",
    "x = 0.5\n",
    "print(linear_interp_three_points(x_0, x_1, x_2, f_x_0, f_x_1, f_x_2, x))"
   ]
  },
  {
   "cell_type": "markdown",
   "metadata": {},
   "source": [
    "We now have a method to interpolate between three points. A good way to test interpolation functions is to create a plot of the results.\n",
    "\n",
    "**Your task (3 pts)**: Create a plot which includes the defined points and the approximated value at the given position (and try it for a couple of values of $x$). **To get full points, don't forget to add axis labels and a title**:\n",
    "\n",
    "*Hint: if you don't see your points because they are directly at the borders of the plot, you can extend the plot range with the `plt.xlim()`, `plt.ylim()` functions.*\n",
    "\n"
   ]
  },
  {
   "cell_type": "code",
   "execution_count": 22,
   "metadata": {
    "nbgrader": {
     "grade": true,
     "grade_id": "plot",
     "locked": false,
     "points": 3,
     "schema_version": 1,
     "solution": true
    }
   },
   "outputs": [
    {
     "data": {
      "text/plain": [
       "<matplotlib.text.Text at 0x7f15d1b052b0>"
      ]
     },
     "execution_count": 22,
     "metadata": {},
     "output_type": "execute_result"
    },
    {
     "data": {
      "image/png": "[encoded data removed]",
      "text/plain": [
       "<matplotlib.figure.Figure at 0x7f15d1b610f0>"
      ]
     },
     "metadata": {},
     "output_type": "display_data"
    }
   ],
   "source": [
    "### BEGIN SOLUTION\n",
    "x = 1.5\n",
    "plt.plot([x_0, x_1, x_2], [f_x_0, f_x_1, f_x_2], 'r-o')\n",
    "plt.xlim([-0.1,2.1])\n",
    "plt.ylim([-0.1, 1.1])\n",
    "plt.plot(x, linear_interp_three_points(x_0, x_1, x_2, f_x_0, f_x_1, f_x_2, x), 'bo')\n",
    "plt.xlabel('x')\n",
    "plt.ylabel('f(x)')\n",
    "plt.title(\"Linear interpolation between three points\")\n",
    "### END SOLUTION"
   ]
  },
  {
   "cell_type": "markdown",
   "metadata": {},
   "source": [
    "You probably noticed a simple pattern when you implemented the function above. Can you imagine how to extend the function to multiple input points and values, passed as `numpy` arrays?\n",
    "\n",
    "**Bonus task (3 pts)**: extend your function for interpolation and visualisation to perform linear interpolation for an arbitrary number of points (with values passed as Python lists or numpy arrays)."
   ]
  },
  {
   "cell_type": "code",
   "execution_count": 23,
   "metadata": {
    "collapsed": true,
    "nbgrader": {
     "grade": false,
     "grade_id": "bonus1",
     "locked": false,
     "schema_version": 1,
     "solution": true
    }
   },
   "outputs": [],
   "source": [
    "def linear_interp_arbitrary_points(p, f_p, x):\n",
    "    \"\"\"Approximate the value at position x using linear interpolation\n",
    "    \n",
    "    **Arguments**:\n",
    "    \n",
    "    p : list or numpy array with positions of points\n",
    "    f_p : list or numpy array with values of points\n",
    "    x : position of value to be approximated\n",
    "    \n",
    "    **Returns**:\n",
    "    \n",
    "    f_x : approximated value\n",
    "    \"\"\"\n",
    "    ### BEGIN SOLUTION\n",
    "    if (x < p[0]) or (x > p[-1]):\n",
    "        return \"Point not in range!\"\n",
    "    else:\n",
    "        for i in range(len(p)):\n",
    "                if p[i-1]< x < p[i]:\n",
    "                    f_x = linear_interp(p[i-1], p[i], f_p[i-1], f_p[i], x)\n",
    "                    return (f_x)\n",
    "                elif x == p[i]:\n",
    "                    return f_p[i]\n",
    "    ### END SOLUTION"
   ]
  },
  {
   "cell_type": "code",
   "execution_count": 24,
   "metadata": {
    "collapsed": true,
    "nbgrader": {
     "grade": true,
     "grade_id": "bonus1_test",
     "locked": true,
     "points": 3,
     "schema_version": 1,
     "solution": false
    }
   },
   "outputs": [],
   "source": [
    "# Cell used for autograding. DO NOT EDIT!\n",
    "### BEGIN HIDDEN TESTS\n",
    "assert linear_interp_arbitrary_points(np.arange(0,9), np.linspace(0, 4, 9), 7) == 3.5\n",
    "assert linear_interp_arbitrary_points([1,3,4,5,6,7,8], [5, 7, 8, 23, 5, 2, 0], 7) == 2\n",
    "### END HIDDEN TESTS"
   ]
  },
  {
   "cell_type": "markdown",
   "metadata": {},
   "source": [
    "## Task 4: Determination of coefficients and dip direction and dip of a plane\n",
    "\n",
    "Imagine that you are on a geological mapping campaign and that you observe a geological boundary at three points. You assume that the boundary is a flat plane and you would like to know the strike/ dip of this plane. \n",
    "\n",
    "This is a classical spatial interpolation problem (often called the \"three-point-problem\") and there are several possibilities to obtain a result (and maybe you discussed some in your geological mapping classes). You will here use the methods of linear interpolation that we discussed during the lecture.\n",
    "\n",
    "We denote the positions of our observation points (i.e. the $x$-, $y$-coordinates) as:\n",
    "\n",
    "$$x_i, y_i \\mbox{ for } i \\in {0,1,2}$$\n",
    "\n",
    "And the $z$ value of our observation is the dependent value:\n",
    "\n",
    "$$z_i = f(x_i,y_i) \\mbox{ for } i \\in {0,1,2}$$\n",
    "\n",
    "We can then write the equations for first-order linear interpolation as:\n",
    "\n",
    "$$z_0 = a_0 + a_1 x_0 + a_2 y_0$$\n",
    "$$z_1 = a_0 + a_1 x_1 + a_2 y_1$$\n",
    "$$z_2 = a_0 + a_1 x_2 + a_2 y_2$$\n",
    "\n",
    "Or in matrix form as:\n",
    "\n",
    "$$\\left[ \\begin{array}{ccc}\n",
    "1 & x_0 & y_0 \\\\\n",
    "1 & x_1 & y_1 \\\\\n",
    "1 & x_2 & y_2 \\end{array} \\right]\n",
    "\\left\\{ \\begin{array}{ccc}\n",
    "a_0 \\\\\n",
    "a_1 \\\\\n",
    "a_2 \\end{array} \\right\\}\n",
    "=\n",
    "\\left\\{ \\begin{array}{ccc}\n",
    "z_0 \\\\\n",
    "z_1 \\\\\n",
    "z_2 \\end{array} \\right\\}\n",
    "$$\n",
    "\n",
    "We now need a method to solve this equation for the vector with the unknown $a_i$'s. One convenient method to solve these types of equations is implemented in the `numpy` method `np.linalg.solve()`. For example, if the matrix is stored in variable `B`, and the z-values in an array variable `z`, and the a-values in variable `a` so that we can write the equation in the form:\n",
    "\n",
    "$$B a = z$$\n",
    "\n",
    "Then we can obtain the results of `a` as:\n",
    "\n",
    "```python\n",
    "(a_0, a_1, a_2) = np.linalg.solve(B, z)\n",
    "```\n",
    "\n",
    "Going back to the equations at the beginning, you can see that we now have the slope values in $x$- and $y$- direction (partial derivatives for each axis) stored in the variables $a_1$ and $a_2$. We can use these results to obtain the structural geological (dip-direction/ dip) values using the following equations:\n",
    "\n",
    "```python\n",
    "maxslope = np.sqrt(a_1**2 + a_2**2)\n",
    "dip = np.arctan(maxslope) / np.pi * 180.\n",
    "dip_direction = np.abs(np.arctan2(-a_1, -a_2)) /  np.pi * 180.\n",
    "```\n",
    "\n",
    "**Your task (5 pts)**: Complete the function below to calculate and print out dip-direction and dip values given three points with (x,y,z) values: "
   ]
  },
  {
   "cell_type": "code",
   "execution_count": 25,
   "metadata": {
    "collapsed": true,
    "nbgrader": {
     "grade": false,
     "grade_id": "dip",
     "locked": false,
     "schema_version": 1,
     "solution": true
    }
   },
   "outputs": [],
   "source": [
    "def calculate_dip_direction_dip(p_0, p_1, p_2):\n",
    "    \"\"\"Calculate dip direction and dip of a plane\n",
    "    \n",
    "    **Arguments**:\n",
    "    \n",
    "    p_0 = (x_0, y_0, z_0) : coordinates of first point\n",
    "    p_1 = (x_1, y_1, z_1) : coordinates of second point\n",
    "    p_2 = (x_2, y_2, z_2) : coordinates of third point\n",
    "\n",
    "     **Returns**:\n",
    "    \n",
    "    dip_direction, dip : tuple of two numbers\n",
    "    \"\"\"\n",
    "    ### BEGIN SOLUTION\n",
    "    (x_0, y_0, z_0) = p_0\n",
    "    (x_1, y_1, z_1) = p_1\n",
    "    (x_2, y_2, z_2) = p_2  \n",
    "    \n",
    "    # assemble matrices:\n",
    "    B = np.array([[1, x_0, y_0],\n",
    "                   [1, x_1, y_1],\n",
    "                   [1, x_2, y_2]])\n",
    "\n",
    "    z = np.array([z_0, z_1, z_2])\n",
    "    (a_0, a_1, a_2) = np.linalg.solve(B, z)\n",
    "    \n",
    "    # calculate dip and azimuth:\n",
    "    maxslope = np.sqrt(a_1**2 + a_2**2)\n",
    "    dip = np.arctan(maxslope) / np.pi * 180.\n",
    "    dip_direction = np.abs(np.arctan2(-a_1, -a_2)) /  np.pi * 180.\n",
    "    return dip_direction, dip\n",
    "    #print(\"(%05.1f/%.1f)\" % (dip_direction, dip))\n",
    "    ### END SOLUTION"
   ]
  },
  {
   "cell_type": "code",
   "execution_count": 26,
   "metadata": {
    "collapsed": true,
    "nbgrader": {
     "grade": true,
     "grade_id": "dip_test",
     "locked": true,
     "points": 5,
     "schema_version": 1,
     "solution": false
    }
   },
   "outputs": [],
   "source": [
    "# Cell used for autograding. DO NOT EDIT!\n",
    "### BEGIN HIDDEN TESTS\n",
    "assert calculate_dip_direction_dip([0, 0, 0],[1, 0, 0],[0, 1, -1]) == (0, 45)\n",
    "### END HIDDEN TESTS"
   ]
  },
  {
   "cell_type": "code",
   "execution_count": 27,
   "metadata": {},
   "outputs": [
    {
     "data": {
      "text/plain": [
       "(0.0, 45.0)"
      ]
     },
     "execution_count": 27,
     "metadata": {},
     "output_type": "execute_result"
    }
   ],
   "source": [
    "# test your implementation:\n",
    "p_0 = (0,0,0)\n",
    "p_1 = (1,0,0)\n",
    "p_2 = (0,1,-1)\n",
    "calculate_dip_direction_dip(p_0, p_1, p_2)"
   ]
  },
  {
   "cell_type": "markdown",
   "metadata": {},
   "source": [
    "**Bonus task (2 pts)**: Create a plot to visualise the original points, the interpolated plane, and indicate the calculated dip direction and dip values. Ideally, this is visualised in 3-D plots (we will discuss 3-D plots in the next exercise), but 2-D plots are also possible"
   ]
  },
  {
   "cell_type": "markdown",
   "metadata": {
    "hideOutput": false,
    "nbgrader": {
     "grade": true,
     "grade_id": "bonus2",
     "locked": false,
     "points": 2,
     "schema_version": 1,
     "solution": true
    }
   },
   "source": [
    "YOUR BONUS CODE HERE"
   ]
  }
 ],
 "metadata": {
  "celltoolbar": "Create Assignment",
  "kernelspec": {
   "display_name": "Python 3",
   "language": "python",
   "name": "python3"
  },
  "language_info": {
   "codemirror_mode": {
    "name": "ipython",
    "version": 3
   },
   "file_extension": ".py",
   "mimetype": "text/x-python",
   "name": "python",
   "nbconvert_exporter": "python",
   "pygments_lexer": "ipython3",
   "version": "3.5.3"
  }
 },
 "nbformat": 4,
 "nbformat_minor": 1
}
