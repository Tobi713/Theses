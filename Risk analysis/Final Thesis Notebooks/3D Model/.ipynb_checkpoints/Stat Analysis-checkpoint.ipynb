{
 "cells": [
  {
   "cell_type": "code",
   "execution_count": 78,
   "metadata": {},
   "outputs": [],
   "source": [
    "import sys, os\n",
    "#sys.path.append(\"C:\\Users\\Miguel\\Desktop\\Working_Space\\pygeomod\\pygeomod\")\n",
    "#import geoPyMC\n",
    "import pymc as pm\n",
    "import numpy as np\n",
    "#import geogrid\n",
    "import pandas as pn\n",
    "import matplotlib.pyplot as plt\n",
    "#reload (geoPyMC)\n",
    "%matplotlib inline\n",
    "from IPython.core.pylabtools import figsize"
   ]
  },
  {
   "cell_type": "code",
   "execution_count": 149,
   "metadata": {},
   "outputs": [],
   "source": [
    "# Init\n",
    "\n",
    "# Esto es para cargar el hdf5 con un modulo que hice en mi tesis. Tu cargalo como sea en pymc\n",
    "#GeoPlot = geoPyMC.GeoPyMC_rep(\"Example plotting\")\n",
    "\n",
    "# Loading data base\n",
    "#GeoPlot.load_db(\"I:\\Sandstone paper database/\",\"27thJulnothing2.hdf5\",#\"27thJulnothing2.hdf5\",,#,#\"21stJulAll.hdf5\",  \"18thJulgrav.hdf5\"\n",
    "#               verbose = 1)\n",
    "\n",
    "#M = pm.database.hdf5.load('./input_data/Traces/post_model_150_30-350_30-250_20_1000iter50burn.hdf5')\n",
    "#M = pm.database.hdf5.load('./input_data/Traces/post_model_300_30-050_10-400_40_1000iter50burn.hdf5')\n",
    "#M = pm.database.hdf5.load('./input_data/Traces/post_model_300_30-400_40_050_10_1000iter50burn.hdf5')\n",
    "#M = pm.database.hdf5.load('./input_data/Traces/post_M-150-20_300-30_250-25_SSF1.5-0.5_1000iter50burn.hdf5')\n",
    "#M = pm.database.hdf5.load('./input_data/Traces/post_M-NoTHL_SSF3-0.3_1000iter50burn.hdf5')\n"
   ]
  },
  {
   "cell_type": "code",
   "execution_count": 150,
   "metadata": {},
   "outputs": [],
   "source": [
    "secres_top_unc_trace = M.trace('z_unc_secres_top')[:]\n",
    "seal_top_unc_trace = M.trace('z_unc_seal_top')[:]\n",
    "res_top_unc_trace = M.trace('z_unc_res_top')[:]\n",
    "base_top_unc_trace = M.trace('z_unc_base_top')[:]\n",
    "offset_unc_trace = M.trace('offset_unc')[:]\n",
    "fault_sealing_trace = M.trace('fault_sealing_unc')[:]\n",
    "structural_model_trace = M.trace('structural_model')[:] \n",
    "interp_trace = M.trace('interp_unc')[:]\n",
    "#fw_res_th_trace = M.trace('res_th')[:]\n",
    "#fw_seal_th_trace = M.trace('seal_th')[:]\n",
    "#fw_sec_res_th_trace = M.trace('sec_res_th')[:]\n",
    "\n",
    "max_volume_trace = structural_model_trace[:,0]\n",
    "SSF_trace = structural_model_trace[:,1]\n",
    "trap_control_trace = structural_model_trace[:,2]"
   ]
  },
  {
   "cell_type": "code",
   "execution_count": 151,
   "metadata": {},
   "outputs": [],
   "source": [
    "figsize(6,5)\n",
    "plt.rc('xtick', labelsize=16) \n",
    "plt.rc('ytick', labelsize=16) \n",
    "plt.rcParams.update({'font.size': 16})\n",
    "plt.rcParams.update({'axes.labelsize': 'large'})\n",
    "plt.rcParams.update({'legend.fontsize': 'large'})"
   ]
  },
  {
   "cell_type": "code",
   "execution_count": 152,
   "metadata": {},
   "outputs": [
    {
     "data": {
      "image/png": "[encoded data removed]",
      "text/plain": [
       "<matplotlib.figure.Figure at 0x7fb7ea680a90>"
      ]
     },
     "metadata": {},
     "output_type": "display_data"
    }
   ],
   "source": [
    "# Import priors (exported with the method export priors during the simulation)\n",
    "\n",
    "# Esto deberia dar igual. Era solo para hacer plots de la posterior y la prior juntas\n",
    "#rom the data base the variables that can be plotted\n",
    "\n",
    "#GeoPlot._select_trace()\n",
    "#GeoPlot._plot_traces\n",
    "\n",
    "#M_L1._select_trace()\n",
    "#M_L1._plot_traces\n",
    "\n",
    "scores = pm.geweke(res_top_unc_trace, intervals=20)\n",
    "pm.Matplot.geweke_plot(scores, \"score\")"
   ]
  },
  {
   "cell_type": "code",
   "execution_count": 44,
   "metadata": {
    "collapsed": true
   },
   "outputs": [],
   "source": [
    "#GeoPlot.plot_post(burn = 50)"
   ]
  },
  {
   "cell_type": "code",
   "execution_count": 99,
   "metadata": {},
   "outputs": [
    {
     "data": {
      "text/plain": [
       "[['Metropolis_offset_unc_adaptive_scale_factor',\n",
       "  'Metropolis_res_th_likelihood_adaptive_scale_factor',\n",
       "  'Metropolis_seal_th_likelihood_adaptive_scale_factor',\n",
       "  'Metropolis_sec_res_th_likelihood_adaptive_scale_factor',\n",
       "  'Metropolis_z_unc_base_top_adaptive_scale_factor',\n",
       "  'Metropolis_z_unc_res_top_adaptive_scale_factor',\n",
       "  'Metropolis_z_unc_seal_top_adaptive_scale_factor',\n",
       "  'Metropolis_z_unc_secres_top_adaptive_scale_factor',\n",
       "  'deviance',\n",
       "  'fault_sealing_unc',\n",
       "  'offset_unc',\n",
       "  'res_th_likelihood',\n",
       "  'seal_th_likelihood',\n",
       "  'sec_res_th_likelihood',\n",
       "  'structural_model',\n",
       "  'z_unc_base_top',\n",
       "  'z_unc_res_top',\n",
       "  'z_unc_seal_top',\n",
       "  'z_unc_secres_top',\n",
       "  'res_th',\n",
       "  'interp_unc',\n",
       "  'seal_th',\n",
       "  'sec_res_th']]"
      ]
     },
     "execution_count": 99,
     "metadata": {},
     "output_type": "execute_result"
    }
   ],
   "source": [
    "M.trace_names"
   ]
  },
  {
   "cell_type": "code",
   "execution_count": 45,
   "metadata": {},
   "outputs": [],
   "source": [
    "# Init un dataframe para un plot de las figuras\n",
    "traces = pn.DataFrame()\n",
    "\n",
    "# init un datafame para el plot geweke\n",
    "geweke = pn.DataFrame()"
   ]
  },
  {
   "cell_type": "code",
   "execution_count": 72,
   "metadata": {},
   "outputs": [
    {
     "data": {
      "text/plain": [
       "array(['BIF_Atley_2', 'BIF_Atley_Ori_W_a', 'SM_Atley_5',\n",
       "       'SM_Atley_Ori_W_d', 'SM_Sand_Ori_W_a', 'SM_Seis_Ori_E_a',\n",
       "       'simple_mafic_Atley_left'], \n",
       "      dtype='|S26')"
      ]
     },
     "execution_count": 72,
     "metadata": {},
     "output_type": "execute_result"
    }
   ],
   "source": [
    "# Aqui estoy mirando que priors quiero para el plot\n",
    "#GeoPlot._plot_traces[::6]"
   ]
  },
  {
   "cell_type": "code",
   "execution_count": 90,
   "metadata": {},
   "outputs": [
    {
     "ename": "TypeError",
     "evalue": "unhashable type: 'list'",
     "output_type": "error",
     "traceback": [
      "\u001b[0;31m---------------------------------------------------------------------------\u001b[0m",
      "\u001b[0;31mTypeError\u001b[0m                                 Traceback (most recent call last)",
      "\u001b[0;32m<ipython-input-90-5d7e59c080f1>\u001b[0m in \u001b[0;36m<module>\u001b[0;34m()\u001b[0m\n\u001b[1;32m      5\u001b[0m \u001b[0;32mfor\u001b[0m \u001b[0mi\u001b[0m \u001b[0;32min\u001b[0m \u001b[0mM\u001b[0m\u001b[0;34m.\u001b[0m\u001b[0mtrace_names\u001b[0m\u001b[0;34m:\u001b[0m\u001b[0;34m\u001b[0m\u001b[0m\n\u001b[1;32m      6\u001b[0m     \u001b[0;31m# Esto devuelve una np array con los posteriors. En tu caso sera similar\u001b[0m\u001b[0;34m\u001b[0m\u001b[0;34m\u001b[0m\u001b[0m\n\u001b[0;32m----> 7\u001b[0;31m     \u001b[0mt\u001b[0m \u001b[0;34m=\u001b[0m \u001b[0mM\u001b[0m\u001b[0;34m.\u001b[0m\u001b[0mtrace\u001b[0m\u001b[0;34m(\u001b[0m\u001b[0mi\u001b[0m\u001b[0;34m,\u001b[0m \u001b[0mchain\u001b[0m\u001b[0;34m=\u001b[0m\u001b[0;32mNone\u001b[0m\u001b[0;34m)\u001b[0m\u001b[0;34m[\u001b[0m\u001b[0;34m:\u001b[0m\u001b[0;34m]\u001b[0m\u001b[0;34m\u001b[0m\u001b[0m\n\u001b[0m\u001b[1;32m      8\u001b[0m     \u001b[0;31m# Aqui guardo el posterior en la dataframe para la figura de las traces\u001b[0m\u001b[0;34m\u001b[0m\u001b[0;34m\u001b[0m\u001b[0m\n\u001b[1;32m      9\u001b[0m     \u001b[0mtraces\u001b[0m\u001b[0;34m[\u001b[0m\u001b[0mi\u001b[0m\u001b[0;34m]\u001b[0m \u001b[0;34m=\u001b[0m \u001b[0mt\u001b[0m\u001b[0;34m\u001b[0m\u001b[0m\n",
      "\u001b[0;32m~/anaconda3/lib/python3.5/site-packages/pymc/database/base.py\u001b[0m in \u001b[0;36mtrace\u001b[0;34m(self, name, chain)\u001b[0m\n\u001b[1;32m    371\u001b[0m           \u001b[0mthe\u001b[0m \u001b[0mith\u001b[0m \u001b[0mcall\u001b[0m \u001b[0mto\u001b[0m\u001b[0;31m \u001b[0m\u001b[0;31m`\u001b[0m\u001b[0msample\u001b[0m\u001b[0;31m`\u001b[0m\u001b[0;34m.\u001b[0m\u001b[0;34m\u001b[0m\u001b[0m\n\u001b[1;32m    372\u001b[0m         \"\"\"\n\u001b[0;32m--> 373\u001b[0;31m         \u001b[0mtrace\u001b[0m \u001b[0;34m=\u001b[0m \u001b[0mcopy\u001b[0m\u001b[0;34m.\u001b[0m\u001b[0mcopy\u001b[0m\u001b[0;34m(\u001b[0m\u001b[0mself\u001b[0m\u001b[0;34m.\u001b[0m\u001b[0m_traces\u001b[0m\u001b[0;34m[\u001b[0m\u001b[0mname\u001b[0m\u001b[0;34m]\u001b[0m\u001b[0;34m)\u001b[0m\u001b[0;34m\u001b[0m\u001b[0m\n\u001b[0m\u001b[1;32m    374\u001b[0m         \u001b[0mtrace\u001b[0m\u001b[0;34m.\u001b[0m\u001b[0m_chain\u001b[0m \u001b[0;34m=\u001b[0m \u001b[0mchain\u001b[0m\u001b[0;34m\u001b[0m\u001b[0m\n\u001b[1;32m    375\u001b[0m         \u001b[0;32mreturn\u001b[0m \u001b[0mtrace\u001b[0m\u001b[0;34m\u001b[0m\u001b[0m\n",
      "\u001b[0;31mTypeError\u001b[0m: unhashable type: 'list'"
     ]
    }
   ],
   "source": [
    "# A ver, aqui viene el turron. Aqui loopeo cada trace. Basicamente sera una lista con los valores de tu posterior\n",
    "# por cada parametro\n",
    "\n",
    "# IMPORTANTE. Aqui loopeo la lista con los nombre de los posterior. i es una string con el nombre del posterior!!\n",
    "for i in M.trace_names:\n",
    "    # Esto devuelve una np array con los posteriors. En tu caso sera similar\n",
    "    t = M.trace(i, chain=None)[:]\n",
    "    # Aqui guardo el posterior en la dataframe para la figura de las traces\n",
    "    traces[i] = t\n",
    "    try:\n",
    "        # Aqui guardo el valor de geweke para el geweke plot\n",
    "        # pm.geweke(t) esto es una funcion de pymc que le pasas la np array del posterior y te devuelve\n",
    "        # el geweke value\n",
    "        geweke[i] = np.array(pm.geweke(t))[:,1] # pm geweke devuelve los valores y los intervalos. Aqui guardamos los valores\n",
    "    except:\n",
    "        continue\n",
    "geweke['Intervals'] = np.array(pm.geweke(t))[:,0] # Aqui los intervalos"
   ]
  },
  {
   "cell_type": "code",
   "execution_count": 75,
   "metadata": {},
   "outputs": [
    {
     "data": {
      "image/png": "[encoded data removed]",
      "text/plain": [
       "<matplotlib.figure.Figure at 0xf26b780>"
      ]
     },
     "metadata": {},
     "output_type": "display_data"
    }
   ],
   "source": [
    "# Cell para geweke plot. Aqui uso pandas matplotlib funcionalidad\n",
    "# Recuerda que el parametro geweke de aqui abajo es un dataframe\n",
    "ax = geweke.plot(x = ['Intervals'], # columna intervalo\n",
    "                 y = geweke.columns[:-4], # Aqui las columnas que quieres to plot.Cada una deberia ser un posterior\n",
    "                 subplots=True, layout=(-1, 4), # Como quieres la grid\n",
    "                 sharex=True, sharey=True, figsize=(8.27, 5), grid = False, ylim= (-5,5),\n",
    "            legend=False, color='steelblue', linewidth = 0.,  marker = '.');\n",
    "\n",
    "# Todo esto es para anadir la linea horizontal en -2 y 2. Si los puntos caen alrededor de eso es bueno\n",
    "for e, c  in enumerate(np.ravel(ax)):\n",
    "    c.hlines(2, geweke['Intervals'].min(), geweke['Intervals'].max(), linestyles = 'dashed' , color = 'darkseagreen')\n",
    "    c.hlines(-2, geweke['Intervals'].min(), geweke['Intervals'].max(), linestyles = 'dashed' , color = 'darkseagreen')\n",
    "    c.set_ylabel('Z-score')\n",
    "    c.yaxis.set_major_locator(plt.MaxNLocator(3))\n",
    "    c.ticklabel_format(style='sci', axis='y', scilimits=(0,0))\n",
    "    c.yaxis.offsetText.set_fontsize(6)\n",
    "    c.tick_params(labelsize=6)\n",
    "    \n",
    "    #c.set_ylim(min(-2.5, geweke.iloc[:, e].min()), np.max(2.5, geweke.iloc[:, e].max()))\n",
    "    c.set_xlim(0,geweke['Intervals'].max())\n",
    "    try:\n",
    "        c.set_title(traces.columns[e],  fontsize=7)\n",
    "    except IndexError:\n",
    "        continue\n",
    "        \n",
    "plt.savefig('./finalfigs/Geweke_Nothing_short.pdf')\n",
    "plt.savefig('./finalfigs/Geweke_Nothing_short.eps')"
   ]
  },
  {
   "cell_type": "code",
   "execution_count": 88,
   "metadata": {},
   "outputs": [
    {
     "ename": "TypeError",
     "evalue": "Empty 'DataFrame': no numeric data to plot",
     "output_type": "error",
     "traceback": [
      "\u001b[0;31m---------------------------------------------------------------------------\u001b[0m",
      "\u001b[0;31mTypeError\u001b[0m                                 Traceback (most recent call last)",
      "\u001b[0;32m<ipython-input-88-2cf8a40d9c48>\u001b[0m in \u001b[0;36m<module>\u001b[0;34m()\u001b[0m\n\u001b[1;32m      1\u001b[0m \u001b[0;31m# Misma historia para las trazas\u001b[0m\u001b[0;34m\u001b[0m\u001b[0;34m\u001b[0m\u001b[0m\n\u001b[1;32m      2\u001b[0m ax = traces.iloc[:, :-3].plot(subplots=True, layout=(-1, 4), sharex=True, figsize=(8.27, 5), grid = False,\n\u001b[0;32m----> 3\u001b[0;31m                  legend=False, color='steelblue', linewidth = 0.6);\n\u001b[0m\u001b[1;32m      4\u001b[0m \u001b[0;34m\u001b[0m\u001b[0m\n\u001b[1;32m      5\u001b[0m \u001b[0;32mfor\u001b[0m \u001b[0me\u001b[0m\u001b[0;34m,\u001b[0m \u001b[0mc\u001b[0m  \u001b[0;32min\u001b[0m \u001b[0menumerate\u001b[0m\u001b[0;34m(\u001b[0m\u001b[0mnp\u001b[0m\u001b[0;34m.\u001b[0m\u001b[0mravel\u001b[0m\u001b[0;34m(\u001b[0m\u001b[0max\u001b[0m\u001b[0;34m)\u001b[0m\u001b[0;34m)\u001b[0m\u001b[0;34m:\u001b[0m\u001b[0;34m\u001b[0m\u001b[0m\n",
      "\u001b[0;32m~/anaconda3/lib/python3.5/site-packages/pandas/plotting/_core.py\u001b[0m in \u001b[0;36m__call__\u001b[0;34m(self, x, y, kind, ax, subplots, sharex, sharey, layout, figsize, use_index, title, grid, legend, style, logx, logy, loglog, xticks, yticks, xlim, ylim, rot, fontsize, colormap, table, yerr, xerr, secondary_y, sort_columns, **kwds)\u001b[0m\n\u001b[1;32m   2618\u001b[0m                           \u001b[0mfontsize\u001b[0m\u001b[0;34m=\u001b[0m\u001b[0mfontsize\u001b[0m\u001b[0;34m,\u001b[0m \u001b[0mcolormap\u001b[0m\u001b[0;34m=\u001b[0m\u001b[0mcolormap\u001b[0m\u001b[0;34m,\u001b[0m \u001b[0mtable\u001b[0m\u001b[0;34m=\u001b[0m\u001b[0mtable\u001b[0m\u001b[0;34m,\u001b[0m\u001b[0;34m\u001b[0m\u001b[0m\n\u001b[1;32m   2619\u001b[0m                           \u001b[0myerr\u001b[0m\u001b[0;34m=\u001b[0m\u001b[0myerr\u001b[0m\u001b[0;34m,\u001b[0m \u001b[0mxerr\u001b[0m\u001b[0;34m=\u001b[0m\u001b[0mxerr\u001b[0m\u001b[0;34m,\u001b[0m \u001b[0msecondary_y\u001b[0m\u001b[0;34m=\u001b[0m\u001b[0msecondary_y\u001b[0m\u001b[0;34m,\u001b[0m\u001b[0;34m\u001b[0m\u001b[0m\n\u001b[0;32m-> 2620\u001b[0;31m                           sort_columns=sort_columns, **kwds)\n\u001b[0m\u001b[1;32m   2621\u001b[0m     \u001b[0m__call__\u001b[0m\u001b[0;34m.\u001b[0m\u001b[0m__doc__\u001b[0m \u001b[0;34m=\u001b[0m \u001b[0mplot_frame\u001b[0m\u001b[0;34m.\u001b[0m\u001b[0m__doc__\u001b[0m\u001b[0;34m\u001b[0m\u001b[0m\n\u001b[1;32m   2622\u001b[0m \u001b[0;34m\u001b[0m\u001b[0m\n",
      "\u001b[0;32m~/anaconda3/lib/python3.5/site-packages/pandas/plotting/_core.py\u001b[0m in \u001b[0;36mplot_frame\u001b[0;34m(data, x, y, kind, ax, subplots, sharex, sharey, layout, figsize, use_index, title, grid, legend, style, logx, logy, loglog, xticks, yticks, xlim, ylim, rot, fontsize, colormap, table, yerr, xerr, secondary_y, sort_columns, **kwds)\u001b[0m\n\u001b[1;32m   1855\u001b[0m                  \u001b[0myerr\u001b[0m\u001b[0;34m=\u001b[0m\u001b[0myerr\u001b[0m\u001b[0;34m,\u001b[0m \u001b[0mxerr\u001b[0m\u001b[0;34m=\u001b[0m\u001b[0mxerr\u001b[0m\u001b[0;34m,\u001b[0m\u001b[0;34m\u001b[0m\u001b[0m\n\u001b[1;32m   1856\u001b[0m                  \u001b[0msecondary_y\u001b[0m\u001b[0;34m=\u001b[0m\u001b[0msecondary_y\u001b[0m\u001b[0;34m,\u001b[0m \u001b[0msort_columns\u001b[0m\u001b[0;34m=\u001b[0m\u001b[0msort_columns\u001b[0m\u001b[0;34m,\u001b[0m\u001b[0;34m\u001b[0m\u001b[0m\n\u001b[0;32m-> 1857\u001b[0;31m                  **kwds)\n\u001b[0m\u001b[1;32m   1858\u001b[0m \u001b[0;34m\u001b[0m\u001b[0m\n\u001b[1;32m   1859\u001b[0m \u001b[0;34m\u001b[0m\u001b[0m\n",
      "\u001b[0;32m~/anaconda3/lib/python3.5/site-packages/pandas/plotting/_core.py\u001b[0m in \u001b[0;36m_plot\u001b[0;34m(data, x, y, subplots, ax, kind, **kwds)\u001b[0m\n\u001b[1;32m   1680\u001b[0m         \u001b[0mplot_obj\u001b[0m \u001b[0;34m=\u001b[0m \u001b[0mklass\u001b[0m\u001b[0;34m(\u001b[0m\u001b[0mdata\u001b[0m\u001b[0;34m,\u001b[0m \u001b[0msubplots\u001b[0m\u001b[0;34m=\u001b[0m\u001b[0msubplots\u001b[0m\u001b[0;34m,\u001b[0m \u001b[0max\u001b[0m\u001b[0;34m=\u001b[0m\u001b[0max\u001b[0m\u001b[0;34m,\u001b[0m \u001b[0mkind\u001b[0m\u001b[0;34m=\u001b[0m\u001b[0mkind\u001b[0m\u001b[0;34m,\u001b[0m \u001b[0;34m**\u001b[0m\u001b[0mkwds\u001b[0m\u001b[0;34m)\u001b[0m\u001b[0;34m\u001b[0m\u001b[0m\n\u001b[1;32m   1681\u001b[0m \u001b[0;34m\u001b[0m\u001b[0m\n\u001b[0;32m-> 1682\u001b[0;31m     \u001b[0mplot_obj\u001b[0m\u001b[0;34m.\u001b[0m\u001b[0mgenerate\u001b[0m\u001b[0;34m(\u001b[0m\u001b[0;34m)\u001b[0m\u001b[0;34m\u001b[0m\u001b[0m\n\u001b[0m\u001b[1;32m   1683\u001b[0m     \u001b[0mplot_obj\u001b[0m\u001b[0;34m.\u001b[0m\u001b[0mdraw\u001b[0m\u001b[0;34m(\u001b[0m\u001b[0;34m)\u001b[0m\u001b[0;34m\u001b[0m\u001b[0m\n\u001b[1;32m   1684\u001b[0m     \u001b[0;32mreturn\u001b[0m \u001b[0mplot_obj\u001b[0m\u001b[0;34m.\u001b[0m\u001b[0mresult\u001b[0m\u001b[0;34m\u001b[0m\u001b[0m\n",
      "\u001b[0;32m~/anaconda3/lib/python3.5/site-packages/pandas/plotting/_core.py\u001b[0m in \u001b[0;36mgenerate\u001b[0;34m(self)\u001b[0m\n\u001b[1;32m    234\u001b[0m     \u001b[0;32mdef\u001b[0m \u001b[0mgenerate\u001b[0m\u001b[0;34m(\u001b[0m\u001b[0mself\u001b[0m\u001b[0;34m)\u001b[0m\u001b[0;34m:\u001b[0m\u001b[0;34m\u001b[0m\u001b[0m\n\u001b[1;32m    235\u001b[0m         \u001b[0mself\u001b[0m\u001b[0;34m.\u001b[0m\u001b[0m_args_adjust\u001b[0m\u001b[0;34m(\u001b[0m\u001b[0;34m)\u001b[0m\u001b[0;34m\u001b[0m\u001b[0m\n\u001b[0;32m--> 236\u001b[0;31m         \u001b[0mself\u001b[0m\u001b[0;34m.\u001b[0m\u001b[0m_compute_plot_data\u001b[0m\u001b[0;34m(\u001b[0m\u001b[0;34m)\u001b[0m\u001b[0;34m\u001b[0m\u001b[0m\n\u001b[0m\u001b[1;32m    237\u001b[0m         \u001b[0mself\u001b[0m\u001b[0;34m.\u001b[0m\u001b[0m_setup_subplots\u001b[0m\u001b[0;34m(\u001b[0m\u001b[0;34m)\u001b[0m\u001b[0;34m\u001b[0m\u001b[0m\n\u001b[1;32m    238\u001b[0m         \u001b[0mself\u001b[0m\u001b[0;34m.\u001b[0m\u001b[0m_make_plot\u001b[0m\u001b[0;34m(\u001b[0m\u001b[0;34m)\u001b[0m\u001b[0;34m\u001b[0m\u001b[0m\n",
      "\u001b[0;32m~/anaconda3/lib/python3.5/site-packages/pandas/plotting/_core.py\u001b[0m in \u001b[0;36m_compute_plot_data\u001b[0;34m(self)\u001b[0m\n\u001b[1;32m    343\u001b[0m         \u001b[0;32mif\u001b[0m \u001b[0mis_empty\u001b[0m\u001b[0;34m:\u001b[0m\u001b[0;34m\u001b[0m\u001b[0m\n\u001b[1;32m    344\u001b[0m             raise TypeError('Empty {0!r}: no numeric data to '\n\u001b[0;32m--> 345\u001b[0;31m                             'plot'.format(numeric_data.__class__.__name__))\n\u001b[0m\u001b[1;32m    346\u001b[0m \u001b[0;34m\u001b[0m\u001b[0m\n\u001b[1;32m    347\u001b[0m         \u001b[0mself\u001b[0m\u001b[0;34m.\u001b[0m\u001b[0mdata\u001b[0m \u001b[0;34m=\u001b[0m \u001b[0mnumeric_data\u001b[0m\u001b[0;34m\u001b[0m\u001b[0m\n",
      "\u001b[0;31mTypeError\u001b[0m: Empty 'DataFrame': no numeric data to plot"
     ]
    }
   ],
   "source": [
    "# Misma historia para las trazas\n",
    "ax = traces.iloc[:, :-3].plot(subplots=True, layout=(-1, 4), sharex=True, figsize=(8.27, 5), grid = False,\n",
    "                 legend=False, color='steelblue', linewidth = 0.6);\n",
    "\n",
    "for e, c  in enumerate(np.ravel(ax)):\n",
    "    c.yaxis.set_major_locator(plt.MaxNLocator(3))\n",
    "    c.ticklabel_format(style='sci', axis='y', scilimits=(0,0))\n",
    "    c.yaxis.offsetText.set_fontsize(6)\n",
    "    c.tick_params(labelsize=6)\n",
    "    try:\n",
    "        c.set_title(traces.columns[e],  fontsize=7)\n",
    "    except IndexError:\n",
    "        continue\n",
    "        \n",
    "plt.savefig('./finalfigs/Traces_Nothing_short.pdf')\n",
    "plt.savefig('./finalfigs/Traces_Nothing_short.eps')"
   ]
  },
  {
   "cell_type": "code",
   "execution_count": null,
   "metadata": {
    "collapsed": true
   },
   "outputs": [],
   "source": []
  }
 ],
 "metadata": {
  "anaconda-cloud": {},
  "kernelspec": {
   "display_name": "Python 3",
   "language": "python",
   "name": "python3"
  },
  "language_info": {
   "codemirror_mode": {
    "name": "ipython",
    "version": 3
   },
   "file_extension": ".py",
   "mimetype": "text/x-python",
   "name": "python",
   "nbconvert_exporter": "python",
   "pygments_lexer": "ipython3",
   "version": "3.5.3"
  }
 },
 "nbformat": 4,
 "nbformat_minor": 1
}
