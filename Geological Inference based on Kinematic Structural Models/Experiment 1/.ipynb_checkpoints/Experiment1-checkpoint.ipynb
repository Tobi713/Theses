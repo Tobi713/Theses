{
 "cells": [
  {
   "cell_type": "markdown",
   "metadata": {},
   "source": [
    "# Experiment 1"
   ]
  },
  {
   "cell_type": "code",
   "execution_count": null,
   "metadata": {
    "collapsed": false
   },
   "outputs": [],
   "source": [
    "import numpy as np\n",
    "import pymc\n",
    "import json\n",
    "import matplotlib.pyplot as plt\n",
    "import matplotlib as mpl\n",
    "%matplotlib inline\n",
    "plt.style.use(\"seaborn-colorblind\")\n",
    "\n",
    "import sys, os\n",
    "sys.path.append(\"C:/Users/lebobcrash/Documents/GitHub/pynoddy/\")\n",
    "sys.path.append(\"../pynoddy/\")\n",
    "import pynoddy.experiment\n",
    "import pynoddy.history\n",
    "import pynoddy.output\n",
    "\n",
    "import seaborn as sns\n",
    "sns.set_style(\"white\")\n",
    "sns.set_context(\"paper\", font_scale=1.3)"
   ]
  },
  {
   "cell_type": "code",
   "execution_count": null,
   "metadata": {
    "collapsed": true
   },
   "outputs": [],
   "source": [
    "initial_history = \"init.his\" # set initial noddy history file\n",
    "cs = 10 # cube size\n",
    "ws = 900 # well site (x-coord)"
   ]
  },
  {
   "cell_type": "markdown",
   "metadata": {},
   "source": [
    "Create prior pymc Distributions for the fold amplitude and wavelength:"
   ]
  },
  {
   "cell_type": "code",
   "execution_count": null,
   "metadata": {
    "collapsed": true
   },
   "outputs": [],
   "source": [
    "fold_amplitude = pymc.Normal(\"fold_amplitude\", 350., 1./np.square(25.))\n",
    "fold_wavelength = pymc.Normal(\"fold_wavelength\", 2500., 1./np.square(140.))"
   ]
  },
  {
   "cell_type": "code",
   "execution_count": null,
   "metadata": {
    "collapsed": true
   },
   "outputs": [],
   "source": [
    "fold_amplitude2 = pymc.Normal(\"fold_amplitude\", 350., 1./np.square(25.))\n",
    "fold_wavelength2 = pymc.Normal(\"fold_wavelength\", 2500., 1./np.square(140.))"
   ]
  },
  {
   "cell_type": "markdown",
   "metadata": {},
   "source": [
    "Create the deterministic pymc function, which takes the prior distributions to create the model:"
   ]
  },
  {
   "cell_type": "code",
   "execution_count": null,
   "metadata": {
    "collapsed": false
   },
   "outputs": [],
   "source": [
    "ex_pymc = pynoddy.experiment.Experiment(initial_history)"
   ]
  },
  {
   "cell_type": "markdown",
   "metadata": {},
   "source": [
    "## PYMC Functions\n",
    "\n",
    "### Deterministic Modelling Function"
   ]
  },
  {
   "cell_type": "code",
   "execution_count": null,
   "metadata": {
    "collapsed": false
   },
   "outputs": [],
   "source": [
    "@pymc.deterministic\n",
    "def pynoddy_model(value=0,\n",
    "                  fold_amplitude=fold_amplitude,\n",
    "                  fold_wavelength=fold_wavelength, \n",
    "                  ex=ex_pymc, ws=ws, cs=cs):\n",
    "    # set fold event properties to prior parameter draws:\n",
    "    ex.events[2].properties[\"Amplitude\"] = fold_amplitude\n",
    "    ex.events[2].properties['Wavelength'] = fold_wavelength\n",
    "    # drillhole extraction (1-D model for faster simulation)\n",
    "    well = ex.get_drillhole_data(ws,0) \n",
    "    return well"
   ]
  },
  {
   "cell_type": "markdown",
   "metadata": {},
   "source": [
    "### Stochastic Likelihood Function\n",
    "Create the stochastic likelihood function for the z-position of layer 2:"
   ]
  },
  {
   "cell_type": "code",
   "execution_count": null,
   "metadata": {
    "collapsed": false
   },
   "outputs": [],
   "source": [
    "@pymc.stochastic\n",
    "def like_layer2_height(value=0, well=pynoddy_model):\n",
    "    if len(np.where(well==2)[0]) < 1:\n",
    "        layer2_height = -9999\n",
    "    else:\n",
    "        layer2_height = np.where(well==2)[0][0]\n",
    "    return pymc.normal_like(layer2_height, 550., 1./np.square(25.))"
   ]
  },
  {
   "cell_type": "markdown",
   "metadata": {},
   "source": [
    "## Simulation"
   ]
  },
  {
   "cell_type": "code",
   "execution_count": null,
   "metadata": {
    "collapsed": true
   },
   "outputs": [],
   "source": [
    "iterations = 30000"
   ]
  },
  {
   "cell_type": "markdown",
   "metadata": {},
   "source": [
    "### Bayesian Inference"
   ]
  },
  {
   "cell_type": "code",
   "execution_count": null,
   "metadata": {
    "collapsed": true
   },
   "outputs": [],
   "source": [
    "model = pymc.Model([fold_wavelength, layer_height,\n",
    "                    pynoddy_model, like_layer2_height])"
   ]
  },
  {
   "cell_type": "code",
   "execution_count": null,
   "metadata": {
    "collapsed": false
   },
   "outputs": [],
   "source": [
    "BI_RUN = pymc.MCMC(model, db=\"hdf5\", name=\"BI_database_name\")\n",
    "BI_RUN.sample(iter=iterations)"
   ]
  },
  {
   "cell_type": "markdown",
   "metadata": {},
   "source": [
    "### Monte Carlo Forward Simulation"
   ]
  },
  {
   "cell_type": "code",
   "execution_count": null,
   "metadata": {
    "collapsed": true
   },
   "outputs": [],
   "source": [
    "model_mcfs = pymc.Model([layer_height2, fold_wavelength2, \n",
    "                         pynoddy_model])"
   ]
  },
  {
   "cell_type": "code",
   "execution_count": null,
   "metadata": {
    "collapsed": false
   },
   "outputs": [],
   "source": [
    "MCFS_RUN = pymc.MCMC(model_mcfs, db=\"hdf5\", name=\"MCFS_database_name\")\n",
    "MCFS_RUN.sample(iter=iterations)"
   ]
  },
  {
   "cell_type": "markdown",
   "metadata": {},
   "source": [
    "## Results"
   ]
  },
  {
   "cell_type": "code",
   "execution_count": null,
   "metadata": {
    "collapsed": false
   },
   "outputs": [],
   "source": [
    "fig, ax = plt.subplots(nrows=1, ncols=2, figsize=(9,4), sharey=True)\n",
    "\n",
    "ax[0].set_xlim(1400,3200)\n",
    "ax[1].set_xlim(1400,3200)\n",
    "ax[0].set_xticks([1400,1850,2300,2750,3200])\n",
    "ax[1].set_xticks([1400,1850,2300,2750,3200])\n",
    "\n",
    "sns.regplot(MCFS_RUN.trace(\"fold_wavelength\")[:],\n",
    "            MCFS_RUN.trace(\"fold_amplitude\")[:], \n",
    "            ax=ax[0])\n",
    "\n",
    "sns.regplot(BI_RUN.trace(\"fold_wavelength\")[:],\n",
    "            BI_RUN.trace(\"fold_amplitude\")[:],\n",
    "            color=\"darkorange\", ax=ax[1])\n",
    "\n",
    "ax[0].set_title(\"Monte Carlo Forward Simulation\")\n",
    "ax[1].set_title(\"Bayesian Inference\")\n",
    "ax[0].set_ylabel(\"Fold Amplitude [m]\")\n",
    "ax[0].set_xlabel(\"Fold Wavelength [m]\")\n",
    "ax[1].set_xlabel(\"Fold Wavelength [m]\")\n",
    "plt.tight_layout()"
   ]
  }
 ],
 "metadata": {
  "anaconda-cloud": {},
  "kernelspec": {
   "display_name": "Python [default]",
   "language": "python",
   "name": "python2"
  },
  "language_info": {
   "codemirror_mode": {
    "name": "ipython",
    "version": 2
   },
   "file_extension": ".py",
   "mimetype": "text/x-python",
   "name": "python",
   "nbconvert_exporter": "python",
   "pygments_lexer": "ipython2",
   "version": "2.7.12"
  }
 },
 "nbformat": 4,
 "nbformat_minor": 0
}
