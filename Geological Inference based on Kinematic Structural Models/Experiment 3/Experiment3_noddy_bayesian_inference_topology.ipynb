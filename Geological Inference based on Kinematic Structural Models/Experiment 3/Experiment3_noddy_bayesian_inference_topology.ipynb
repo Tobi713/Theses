{
 "cells": [
  {
   "cell_type": "code",
   "execution_count": null,
   "metadata": {
    "collapsed": true
   },
   "outputs": [],
   "source": [
    "import numpy as np\n",
    "import matplotlib.pyplot as plt\n",
    "import matplotlib as mpl\n",
    "%matplotlib inline\n",
    "#plt.style.use('bmh')\n",
    "plt.style.use(\"seaborn-colorblind\")\n",
    "import sys\n",
    "from PosteriorAnalysis import Utility\n",
    "reload(Utility)\n",
    "import pynoddy.history\n",
    "import pynoddy.output\n",
    "import pynoddy.experiment\n",
    "import pymc"
   ]
  },
  {
   "cell_type": "code",
   "execution_count": null,
   "metadata": {
    "collapsed": true
   },
   "outputs": [],
   "source": [
    "prior_dict = Utility.load_priors(\"PGM2_pynoddy_priors.json\")"
   ]
  },
  {
   "cell_type": "code",
   "execution_count": null,
   "metadata": {
    "collapsed": true
   },
   "outputs": [],
   "source": [
    "cs = 10\n",
    "initial_history = \"init.his\""
   ]
  },
  {
   "cell_type": "code",
   "execution_count": null,
   "metadata": {
    "collapsed": true
   },
   "outputs": [],
   "source": [
    "ex = pynoddy.experiment.Experiment(initial_history)\n",
    "ex.plot_section(\"y\")"
   ]
  },
  {
   "cell_type": "markdown",
   "metadata": {},
   "source": [
    "## Mean Prior Model"
   ]
  },
  {
   "cell_type": "code",
   "execution_count": null,
   "metadata": {
    "collapsed": true
   },
   "outputs": [],
   "source": [
    "prior_dict"
   ]
  },
  {
   "cell_type": "code",
   "execution_count": null,
   "metadata": {
    "collapsed": true
   },
   "outputs": [],
   "source": [
    "# layer height\n",
    "ex.events[1].layers[2].properties[\"Height\"] = prior_dict[\"Layer2_Height\"][\"mean\"]\n",
    "ex.events[1].layers[1].properties[\"Height\"] = prior_dict[\"Layer3_Height\"][\"mean\"]\n",
    "\n",
    "# fold\n",
    "ex.events[2].properties[\"Amplitude\"] = prior_dict[\"Fold_Amplitude\"][\"mean\"]\n",
    "ex.events[2].properties[\"Wavelength\"] = prior_dict[\"Fold_Wavelength\"][\"mean\"]\n",
    "\n",
    "# unconformity\n",
    "ex.events[3].properties[\"Z\"] = prior_dict[\"Unconformity_Height\"][\"mean\"]\n",
    "ex.events[3].properties[\"Dip\"] = prior_dict[\"Unconformity_Rotation\"][\"mean\"]\n",
    "\n",
    "fig, ax = plt.subplots(nrows=1, ncols=1, figsize=(8,6))\n",
    "\n",
    "ex.plot_section(\"y\", ax=ax)\n",
    "ax.set_xlabel(\"x [# Voxel]\")\n",
    "ax.set_ylabel(\"z [# Voxel]\")\n",
    "ax.legend(loc=\"upper left\")\n",
    "ax.set_title(\"\")\n",
    "plt.tight_layout()"
   ]
  },
  {
   "cell_type": "code",
   "execution_count": null,
   "metadata": {
    "collapsed": true
   },
   "outputs": [],
   "source": [
    "mean_prior_block = ex.get_section().block"
   ]
  },
  {
   "cell_type": "code",
   "execution_count": 68,
   "metadata": {
    "collapsed": true
   },
   "outputs": [],
   "source": [
    "def extract_interfaces_from_noddy_model_block(block, x_pos, y_pos):\n",
    "    storage = []\n",
    "    for x in x_pos:\n",
    "        for y in y_pos:\n",
    "            for layer in np.unique(block[x,y,:]):\n",
    "                z = np.where(block[x,y,:]==layer)[0][0]\n",
    "                if int(z) != 0:\n",
    "                    storage.append([x,y,z,\"Layer\"+str(int(layer))])\n",
    "    return storage"
   ]
  },
  {
   "cell_type": "code",
   "execution_count": null,
   "metadata": {
    "collapsed": true
   },
   "outputs": [],
   "source": [
    "mean_prior_interfaces = extract_interfaces_from_noddy_model_block(mean_prior_block, [20,110,170], [0])"
   ]
  },
  {
   "cell_type": "code",
   "execution_count": null,
   "metadata": {
    "collapsed": true
   },
   "outputs": [],
   "source": [
    "np.save(\"mean_prior_interfaces\", np.array(mean_prior_interfaces, dtype=\"object\"))"
   ]
  },
  {
   "cell_type": "code",
   "execution_count": null,
   "metadata": {
    "collapsed": true
   },
   "outputs": [],
   "source": [
    "mean_prior_interfaces"
   ]
  },
  {
   "cell_type": "code",
   "execution_count": null,
   "metadata": {
    "collapsed": true
   },
   "outputs": [],
   "source": [
    "pynoddy_prior_dict = Utility.load_priors(\"PGM2_pynoddy_priors.json\")  # load prior json file dictionary\n",
    "for key in pynoddy_prior_dict.keys():  # add pymc distributions based on values\n",
    "    print key\n",
    "    pynoddy_prior_dict[key][\"pymc\"] = pymc.Normal(str(key), pynoddy_prior_dict[key][\"mean\"], 1./np.square(pynoddy_prior_dict[key][\"stdev\"]))"
   ]
  },
  {
   "cell_type": "code",
   "execution_count": null,
   "metadata": {
    "collapsed": true
   },
   "outputs": [],
   "source": [
    "# create initial pynoddy experiment object\n",
    "ex_mcmc = pynoddy.experiment.Experiment(initial_history)"
   ]
  },
  {
   "cell_type": "code",
   "execution_count": null,
   "metadata": {
    "collapsed": true
   },
   "outputs": [],
   "source": [
    "pymc_ex = pynoddy.experiment.Experiment(initial_history)\n",
    "\n",
    "@pymc.deterministic\n",
    "def pynoddy_model(value=0, \n",
    "                  prior_dict=pynoddy_prior_dict,  # dictionary of prior value distributions\n",
    "                  ex=pymc_ex, # the pynoddy experiment object\n",
    "                  cs=cs, # experiment cube size\n",
    "                  topology=False,\n",
    "                  name = \"pynoddy_model_temp\",\n",
    "                  verbose = 2\n",
    "                 ):\n",
    "    \"\"\"\n",
    "    Creates Pynoddy Model Output from Pynoddy Prior Parameter distribution dictionary \n",
    "    with topology output and returns block model.\n",
    "    \"\"\"\n",
    "    if verbose == 1:\n",
    "        for prior in prior_dict:\n",
    "            print prior, prior_dict[prior][\"pymc\"]\n",
    "    \n",
    "    Utility.pynoddy_assign_priors(prior_dict, ex, verbose=0)  # assign priors to respective event properties\n",
    "    block = ex.get_section().block\n",
    "    \n",
    "    if verbose > 0:\n",
    "        plt.imshow(block[:,0,:].T, origin=\"lower\")\n",
    "    \n",
    "    return block  # return model"
   ]
  },
  {
   "cell_type": "code",
   "execution_count": null,
   "metadata": {
    "collapsed": true
   },
   "outputs": [],
   "source": [
    "@pymc.deterministic \n",
    "def pynoddy_topology(value=0, pynoddy_model=pynoddy_model): \n",
    "    # compute topology \n",
    "    pynoddy.compute_topology(\"pymc_noddy_output\", topology_path=\"topology.exe\", type=\"TOPOLOGY\"); \n",
    "    # load computed topology output \n",
    "    topology = pynoddy.output.NoddyTopology(\"pymc_noddy_output\") \n",
    "    #return topology object \n",
    "    return topology\n",
    "\n",
    "@pymc.stochastic \n",
    "def like_topology_003_005(value=0, topology=pynoddy_topology): \n",
    "    # check adjacency \n",
    "    adj = Utility.check_adjacency(\"003\", \"005\", topology) \n",
    "    return pymc.bernoulli_like(adj,0.01) # use bernoulli likelihood, probabilitiy of sucess (adj==True) of 0.01 \n",
    "    # ergo making it highly unlikely that the two layers are somehow connected"
   ]
  },
  {
   "cell_type": "code",
   "execution_count": null,
   "metadata": {
    "collapsed": true
   },
   "outputs": [],
   "source": [
    "params = [pynoddy_model,pynoddy_topology,like_topology_003_005]\n",
    "for key in pynoddy_prior_dict:\n",
    "    params.append(pynoddy_prior_dict[key][\"pymc\"])"
   ]
  },
  {
   "cell_type": "code",
   "execution_count": null,
   "metadata": {
    "collapsed": true
   },
   "outputs": [],
   "source": [
    "model = pymc.Model(params)"
   ]
  },
  {
   "cell_type": "code",
   "execution_count": null,
   "metadata": {
    "collapsed": true
   },
   "outputs": [],
   "source": [
    "iterations ="
   ]
  },
  {
   "cell_type": "code",
   "execution_count": null,
   "metadata": {
    "collapsed": true
   },
   "outputs": [],
   "source": [
    "RUN = pymc.MCMC(model, db=\"hdf5\", name=\"\")\n",
    "RUN.sample(iter=iterations)"
   ]
  },
  {
   "cell_type": "markdown",
   "metadata": {},
   "source": [
    "# Auxiliary and Development Code\n",
    "## Topology"
   ]
  },
  {
   "cell_type": "code",
   "execution_count": 68,
   "metadata": {
    "collapsed": true
   },
   "outputs": [],
   "source": [
    "topology_path = \"topology.exe\""
   ]
  },
  {
   "cell_type": "code",
   "execution_count": 117,
   "metadata": {
    "collapsed": false,
    "scrolled": true
   },
   "outputs": [],
   "source": [
    "pynoddy.compute_model(history, \"pynoddy_out\", sim_type=\"TOPOLOGY\")\n",
    "pynoddy.compute_topology(\"pynoddy_out\", topology_path=topology_path, type=\"TOPOLOGY\");"
   ]
  },
  {
   "cell_type": "code",
   "execution_count": 113,
   "metadata": {
    "collapsed": false
   },
   "outputs": [],
   "source": [
    "topology = pynoddy.output.NoddyTopology(\"pynoddy_out\")\n",
    "out = pynoddy.output.NoddyOutput(\"pynoddy_out\")"
   ]
  },
  {
   "cell_type": "code",
   "execution_count": 114,
   "metadata": {
    "collapsed": true
   },
   "outputs": [],
   "source": [
    "def visualize_nodes(topology, model):\n",
    "    \n",
    "    fig, ax = plt.subplots(nrows=1, ncols=1, figsize=(12,8))\n",
    "\n",
    "    model.plot_section(\"y\", ax=ax)\n",
    "\n",
    "    # plot nodes\n",
    "    cs = 10.\n",
    "    for key in topology.graph.node.keys():\n",
    "        #print node[1][\"centroid\"]\n",
    "        ax.plot(topology.graph.node[key][\"centroid\"][0]/cs,topology.graph.node[key][\"centroid\"][2]/cs, \"ko\")\n",
    "        ax.text(topology.graph.node[key][\"centroid\"][0]/cs,topology.graph.node[key][\"centroid\"][2]/cs, str(key), color=\"black\")\n",
    "        for edge in topology.graph.edge[key]:\n",
    "            plt.plot([topology.graph.node[key][\"centroid\"][0]/cs,topology.graph.node[edge][\"centroid\"][0]/cs],\n",
    "                     [topology.graph.node[key][\"centroid\"][2]/cs,topology.graph.node[edge][\"centroid\"][2]/cs],\n",
    "                      topology.graph.edge[key][edge][\"colour\"])\n",
    "\n",
    "    # plot details\n",
    "    ax.set_xlim(0)\n",
    "    ax.set_ylim(0);"
   ]
  },
  {
   "cell_type": "code",
   "execution_count": 118,
   "metadata": {
    "collapsed": false
   },
   "outputs": [
    {
     "data": {
      "image/png": "[encoded data removed]",
      "text/plain": [
       "<matplotlib.figure.Figure at 0x10e93a20>"
      ]
     },
     "metadata": {},
     "output_type": "display_data"
    }
   ],
   "source": [
    "visualize_nodes(topology,out)"
   ]
  },
  {
   "cell_type": "code",
   "execution_count": 150,
   "metadata": {
    "collapsed": false
   },
   "outputs": [],
   "source": [
    "def check_adjacency(layerA,layerB,topology):\n",
    "    \"\"\"\n",
    "    Check for adjacency of the two layers A and B. Returns True if connected, else False. Function should hold true even for \n",
    "    very weird model realisations with unexpected edges.\n",
    "    layerA,layerB: str like \"003\" for layer #3\n",
    "    \"\"\"\n",
    "    adjacency = None\n",
    "    for node in topology.graph.node.keys():\n",
    "        if layerA in node:\n",
    "            #print topology.graph.edge[node].keys()\n",
    "            for edge in topology.graph.edge[node].keys():\n",
    "                if layerB in edge:\n",
    "                    #print topology.graph.edge[node][edge]\n",
    "                    #print \"Node \",layerA,\" and \",layerB,\" share an edge!\"\n",
    "                    adjacency = True\n",
    "    if adjacency is True:\n",
    "        return True\n",
    "    else:\n",
    "        return False"
   ]
  },
  {
   "cell_type": "markdown",
   "metadata": {},
   "source": [
    "## Parameter Extraction"
   ]
  },
  {
   "cell_type": "markdown",
   "metadata": {},
   "source": [
    "extract values for geomodeller:\n",
    "\n",
    "* extract layer thickness at several positions to remodel fold"
   ]
  },
  {
   "cell_type": "code",
   "execution_count": 182,
   "metadata": {
    "collapsed": true
   },
   "outputs": [],
   "source": [
    "%matplotlib inline"
   ]
  },
  {
   "cell_type": "code",
   "execution_count": 183,
   "metadata": {
    "collapsed": false
   },
   "outputs": [
    {
     "data": {
      "text/plain": [
       "<matplotlib.image.AxesImage at 0xed51dd8>"
      ]
     },
     "execution_count": 183,
     "metadata": {},
     "output_type": "execute_result"
    },
    {
     "data": {
      "image/png": "[encoded data removed]",
      "text/plain": [
       "<matplotlib.figure.Figure at 0xed4f940>"
      ]
     },
     "metadata": {},
     "output_type": "display_data"
    }
   ],
   "source": [
    "plt.imshow(pynoddy_model_posterior[12].T, origin=\"lower left\", interpolation=\"nearest\")"
   ]
  },
  {
   "cell_type": "markdown",
   "metadata": {},
   "source": [
    "### layer identification\n",
    "* orange = 4\n",
    "* green = 3\n",
    "* light_blue = 2\n",
    "* dark_blue = 1\n",
    "* red = 5"
   ]
  },
  {
   "cell_type": "code",
   "execution_count": 38,
   "metadata": {
    "collapsed": true
   },
   "outputs": [],
   "source": [
    "import pandas as pd"
   ]
  },
  {
   "cell_type": "code",
   "execution_count": 40,
   "metadata": {
    "collapsed": true
   },
   "outputs": [],
   "source": [
    "foliation_col_names = [\"X\", \"Y\", \"Z\", \"azimuth\", \"dip\", \"polarity\", \"formation\"]\n",
    "interfaces_col_names = [\"X\", \"Y\", \"Z\", \"formation\"]\n",
    "\n",
    "interfaces = pd.DataFrame(columns=interfaces_col_names)\n",
    "foliations = pd.DataFrame(columns=foliation_col_names)"
   ]
  },
  {
   "cell_type": "code",
   "execution_count": 173,
   "metadata": {
    "collapsed": false
   },
   "outputs": [
    {
     "data": {
      "text/plain": [
       "array([[ 4.,  4.,  4., ...,  5.,  5.,  5.],\n",
       "       [ 4.,  4.,  4., ...,  5.,  5.,  5.],\n",
       "       [ 4.,  4.,  4., ...,  5.,  5.,  5.],\n",
       "       ..., \n",
       "       [ 4.,  4.,  4., ...,  5.,  5.,  5.],\n",
       "       [ 4.,  4.,  4., ...,  5.,  5.,  5.],\n",
       "       [ 4.,  4.,  4., ...,  5.,  5.,  5.]])"
      ]
     },
     "execution_count": 173,
     "metadata": {},
     "output_type": "execute_result"
    }
   ],
   "source": [
    "model = pynoddy_model_posterior[12]\n",
    "model"
   ]
  },
  {
   "cell_type": "code",
   "execution_count": 176,
   "metadata": {
    "collapsed": false
   },
   "outputs": [
    {
     "data": {
      "text/plain": [
       "(200L,)"
      ]
     },
     "execution_count": 176,
     "metadata": {},
     "output_type": "execute_result"
    }
   ],
   "source": [
    "np.shape(model[:,0])"
   ]
  },
  {
   "cell_type": "code",
   "execution_count": 177,
   "metadata": {
    "collapsed": false
   },
   "outputs": [
    {
     "data": {
      "text/plain": [
       "(100L,)"
      ]
     },
     "execution_count": 177,
     "metadata": {},
     "output_type": "execute_result"
    }
   ],
   "source": [
    "np.shape(model[0,:])"
   ]
  },
  {
   "cell_type": "code",
   "execution_count": 178,
   "metadata": {
    "collapsed": false
   },
   "outputs": [
    {
     "data": {
      "text/plain": [
       "array([ 4.,  4.,  4.,  4.,  4.,  4.,  4.,  4.,  4.,  4.,  4.,  4.,  3.,\n",
       "        3.,  3.,  3.,  3.,  3.,  3.,  3.,  3.,  3.,  3.,  3.,  3.,  3.,\n",
       "        2.,  2.,  2.,  2.,  2.,  2.,  2.,  2.,  2.,  2.,  2.,  2.,  2.,\n",
       "        2.,  1.,  1.,  1.,  1.,  1.,  1.,  1.,  1.,  1.,  1.,  1.,  1.,\n",
       "        1.,  1.,  1.,  1.,  1.,  1.,  1.,  1.,  1.,  1.,  1.,  5.,  5.,\n",
       "        5.,  5.,  5.,  5.,  5.,  5.,  5.,  5.,  5.,  5.,  5.,  5.,  5.,\n",
       "        5.,  5.,  5.,  5.,  5.,  5.,  5.,  5.,  5.,  5.,  5.,  5.,  5.,\n",
       "        5.,  5.,  5.,  5.,  5.,  5.,  5.,  5.,  5.])"
      ]
     },
     "execution_count": 178,
     "metadata": {},
     "output_type": "execute_result"
    }
   ],
   "source": [
    "model[0,:]"
   ]
  },
  {
   "cell_type": "code",
   "execution_count": 187,
   "metadata": {
    "collapsed": false
   },
   "outputs": [
    {
     "data": {
      "text/plain": [
       "array([  0,  20,  40,  60,  80, 100, 120, 140, 160, 180])"
      ]
     },
     "execution_count": 187,
     "metadata": {},
     "output_type": "execute_result"
    }
   ],
   "source": [
    "np.arange(0,200,20)"
   ]
  },
  {
   "cell_type": "code",
   "execution_count": 200,
   "metadata": {
    "collapsed": false
   },
   "outputs": [
    {
     "data": {
      "text/plain": [
       "array([ 1.,  2.,  3.,  4.,  5.])"
      ]
     },
     "execution_count": 200,
     "metadata": {},
     "output_type": "execute_result"
    }
   ],
   "source": [
    "np.unique(model[160,:])"
   ]
  },
  {
   "cell_type": "code",
   "execution_count": 216,
   "metadata": {
    "collapsed": false
   },
   "outputs": [],
   "source": [
    "def extract_interfaces(model, step_size=20):\n",
    "    x_pos = np.arange(0,len(model[:,0]),step_size)\n",
    "    \n",
    "    interfaces_col_names = [\"X\", \"Y\", \"Z\", \"formation\"]\n",
    "    interfaces = pd.DataFrame(columns=interfaces_col_names)\n",
    "    \n",
    "    loc = 0 # index variable for pandas\n",
    "    for x in x_pos:\n",
    "        for layer in np.unique(model[x,:]):\n",
    "            loc += 1\n",
    "            if len(np.where(model[x,:]==layer)[0]) is 0:\n",
    "                pass\n",
    "            else:\n",
    "                z = np.where(model[x,:]==layer)[0][0]\n",
    "                y = 0\n",
    "                if z == 0. or z == 0:\n",
    "                    pass\n",
    "                else:\n",
    "                    interfaces.loc[loc] = [x,y,z,\"Layer\"+str(int(layer))]\n",
    "    \n",
    "    \n",
    "    return interfaces"
   ]
  },
  {
   "cell_type": "code",
   "execution_count": 229,
   "metadata": {
    "collapsed": true
   },
   "outputs": [],
   "source": [
    "def extract_foliations(model,step_size=20):\n",
    "    # define x coordinates of extraction \"wells\"\n",
    "    x_pos = np.arange(step_size,len(model[:,0]),step_size)\n",
    "    \n",
    "    # create pandas dataframe\n",
    "    foliation_col_names = [\"X\", \"Y\", \"Z\", \"azimuth\", \"dip\", \"polarity\", \"formation\"]\n",
    "    foliations = pd.DataFrame(columns=foliation_col_names)\n",
    "    \n",
    "    loc = 0 # index variable for pandas\n",
    "    \n",
    "    for x in x_pos:\n",
    "        for layer in np.unique(model[x,:]):\n",
    "            loc += 1\n",
    "            \n",
    "            z1 = np.where(model[x - step_size/2 + 1,:]==layer)[0][0]\n",
    "            z2 = np.where(model[x + step_size/2 - 1,:]==layer)[0][0]\n",
    "            \n",
    "            dz = z1 - z2\n",
    "            dx = step_size - 2\n",
    "            tan = float(dz) / float(dx)\n",
    "            dip = np.rad2deg(np.arctan(tan))\n",
    "            az = 90.\n",
    "            pol = 1.\n",
    "            y = 0.\n",
    "            foliations.loc[loc] = [x,y,(z1+z2)/2,az,dip,pol,\"Layer\"+str(int(layer))]\n",
    "            \n",
    "    return foliations"
   ]
  },
  {
   "cell_type": "raw",
   "metadata": {
    "collapsed": false
   },
   "source": [
    "def extract_foliations(n_step, n_iter, y=0, section=pynoddy_model_posterior, cs=cs, foliations=foliations, x_extent=200):\n",
    "    x_pos = np.arange(0,x_extent,n_step)\n",
    "    loc = 0\n",
    "    \n",
    "    for x in x_pos:\n",
    "        for layer in [1,2,3,4,5]:\n",
    "            loc += 1\n",
    "            if len(np.where(section[n_iter,x]==layer)[0]) is 0 or len(np.where(section[n_iter,x+n_step-2]==layer)[0]) is 0:\n",
    "                pass\n",
    "            else:\n",
    "                z1 = np.where(section[n_iter,x]==layer)[0][0]\n",
    "                z2 = np.where(section[n_iter,x+n_step-2]==layer)[0][0]\n",
    "                \n",
    "                dz = z1 - z2\n",
    "                dx = n_step - 2\n",
    "                tan = float(dz) / float(dx)\n",
    "                dip = np.rad2deg(np.arctan(tan))\n",
    "                az = 90\n",
    "                pol = 1\n",
    "                foliations.loc[loc] = [x,y,(z1+z2)/2,az,dip,pol,\"Layer\"+str(layer)]\n",
    "    return foliations"
   ]
  },
  {
   "cell_type": "code",
   "execution_count": 47,
   "metadata": {
    "collapsed": false
   },
   "outputs": [],
   "source": [
    "interfaces = extract_interfaces(10,12)\n",
    "foliations = extract_foliations(20,12)"
   ]
  },
  {
   "cell_type": "raw",
   "metadata": {},
   "source": [
    "interfaces = interfaces[interfaces[\"Z\"]!=0.0]"
   ]
  },
  {
   "cell_type": "raw",
   "metadata": {},
   "source": [
    "foliations = foliations[foliations[\"Z\"]!=0.0]"
   ]
  },
  {
   "cell_type": "code",
   "execution_count": 52,
   "metadata": {
    "collapsed": true
   },
   "outputs": [],
   "source": [
    "interfaces[interfaces[\"Z\"]!=0].to_csv(\"interfaces.csv\")\n",
    "foliations[foliations[\"Z\"]!=0].to_csv(\"foliations.csv\")"
   ]
  },
  {
   "cell_type": "code",
   "execution_count": 48,
   "metadata": {
    "collapsed": false
   },
   "outputs": [
    {
     "data": {
      "text/plain": [
       "[<matplotlib.lines.Line2D at 0xf7ee0b8>]"
      ]
     },
     "execution_count": 48,
     "metadata": {},
     "output_type": "execute_result"
    },
    {
     "data": {
      "image/png": "[encoded data removed]",
      "text/plain": [
       "<matplotlib.figure.Figure at 0xcfc0940>"
      ]
     },
     "metadata": {},
     "output_type": "display_data"
    }
   ],
   "source": [
    "plt.plot(interfaces[\"X\"].values, interfaces[\"Z\"].values,\"o\")\n",
    "plt.plot(foliations[\"X\"].values, foliations[\"Z\"].values,\"x\")"
   ]
  },
  {
   "cell_type": "code",
   "execution_count": 357,
   "metadata": {
    "collapsed": false
   },
   "outputs": [
    {
     "data": {
      "text/html": [
       "<div>\n",
       "<table border=\"1\" class=\"dataframe\">\n",
       "  <thead>\n",
       "    <tr style=\"text-align: right;\">\n",
       "      <th></th>\n",
       "      <th>X</th>\n",
       "      <th>Y</th>\n",
       "      <th>Z</th>\n",
       "      <th>azimuth</th>\n",
       "      <th>dip</th>\n",
       "      <th>polarity</th>\n",
       "      <th>formation</th>\n",
       "    </tr>\n",
       "  </thead>\n",
       "  <tbody>\n",
       "    <tr>\n",
       "      <th>3</th>\n",
       "      <td>0.0</td>\n",
       "      <td>0.0</td>\n",
       "      <td>33.0</td>\n",
       "      <td>90.0</td>\n",
       "      <td>-43.363423</td>\n",
       "      <td>1.0</td>\n",
       "      <td>Layer3</td>\n",
       "    </tr>\n",
       "    <tr>\n",
       "      <th>4</th>\n",
       "      <td>0.0</td>\n",
       "      <td>0.0</td>\n",
       "      <td>0.0</td>\n",
       "      <td>90.0</td>\n",
       "      <td>0.000000</td>\n",
       "      <td>1.0</td>\n",
       "      <td>Layer4</td>\n",
       "    </tr>\n",
       "    <tr>\n",
       "      <th>5</th>\n",
       "      <td>0.0</td>\n",
       "      <td>0.0</td>\n",
       "      <td>61.0</td>\n",
       "      <td>90.0</td>\n",
       "      <td>-15.524111</td>\n",
       "      <td>1.0</td>\n",
       "      <td>Layer5</td>\n",
       "    </tr>\n",
       "    <tr>\n",
       "      <th>8</th>\n",
       "      <td>20.0</td>\n",
       "      <td>0.0</td>\n",
       "      <td>45.0</td>\n",
       "      <td>90.0</td>\n",
       "      <td>-15.524111</td>\n",
       "      <td>1.0</td>\n",
       "      <td>Layer3</td>\n",
       "    </tr>\n",
       "    <tr>\n",
       "      <th>9</th>\n",
       "      <td>20.0</td>\n",
       "      <td>0.0</td>\n",
       "      <td>0.0</td>\n",
       "      <td>90.0</td>\n",
       "      <td>0.000000</td>\n",
       "      <td>1.0</td>\n",
       "      <td>Layer4</td>\n",
       "    </tr>\n",
       "    <tr>\n",
       "      <th>10</th>\n",
       "      <td>20.0</td>\n",
       "      <td>0.0</td>\n",
       "      <td>66.0</td>\n",
       "      <td>90.0</td>\n",
       "      <td>-15.524111</td>\n",
       "      <td>1.0</td>\n",
       "      <td>Layer5</td>\n",
       "    </tr>\n",
       "    <tr>\n",
       "      <th>13</th>\n",
       "      <td>40.0</td>\n",
       "      <td>0.0</td>\n",
       "      <td>42.0</td>\n",
       "      <td>90.0</td>\n",
       "      <td>31.429566</td>\n",
       "      <td>1.0</td>\n",
       "      <td>Layer3</td>\n",
       "    </tr>\n",
       "    <tr>\n",
       "      <th>14</th>\n",
       "      <td>40.0</td>\n",
       "      <td>0.0</td>\n",
       "      <td>0.0</td>\n",
       "      <td>90.0</td>\n",
       "      <td>0.000000</td>\n",
       "      <td>1.0</td>\n",
       "      <td>Layer4</td>\n",
       "    </tr>\n",
       "    <tr>\n",
       "      <th>15</th>\n",
       "      <td>40.0</td>\n",
       "      <td>0.0</td>\n",
       "      <td>72.0</td>\n",
       "      <td>90.0</td>\n",
       "      <td>-15.524111</td>\n",
       "      <td>1.0</td>\n",
       "      <td>Layer5</td>\n",
       "    </tr>\n",
       "    <tr>\n",
       "      <th>16</th>\n",
       "      <td>60.0</td>\n",
       "      <td>0.0</td>\n",
       "      <td>63.0</td>\n",
       "      <td>90.0</td>\n",
       "      <td>43.363423</td>\n",
       "      <td>1.0</td>\n",
       "      <td>Layer1</td>\n",
       "    </tr>\n",
       "    <tr>\n",
       "      <th>17</th>\n",
       "      <td>60.0</td>\n",
       "      <td>0.0</td>\n",
       "      <td>52.0</td>\n",
       "      <td>90.0</td>\n",
       "      <td>45.000000</td>\n",
       "      <td>1.0</td>\n",
       "      <td>Layer2</td>\n",
       "    </tr>\n",
       "    <tr>\n",
       "      <th>18</th>\n",
       "      <td>60.0</td>\n",
       "      <td>0.0</td>\n",
       "      <td>26.0</td>\n",
       "      <td>90.0</td>\n",
       "      <td>43.363423</td>\n",
       "      <td>1.0</td>\n",
       "      <td>Layer3</td>\n",
       "    </tr>\n",
       "    <tr>\n",
       "      <th>19</th>\n",
       "      <td>60.0</td>\n",
       "      <td>0.0</td>\n",
       "      <td>0.0</td>\n",
       "      <td>90.0</td>\n",
       "      <td>0.000000</td>\n",
       "      <td>1.0</td>\n",
       "      <td>Layer4</td>\n",
       "    </tr>\n",
       "    <tr>\n",
       "      <th>20</th>\n",
       "      <td>60.0</td>\n",
       "      <td>0.0</td>\n",
       "      <td>77.0</td>\n",
       "      <td>90.0</td>\n",
       "      <td>-15.524111</td>\n",
       "      <td>1.0</td>\n",
       "      <td>Layer5</td>\n",
       "    </tr>\n",
       "    <tr>\n",
       "      <th>21</th>\n",
       "      <td>80.0</td>\n",
       "      <td>0.0</td>\n",
       "      <td>46.0</td>\n",
       "      <td>90.0</td>\n",
       "      <td>35.837653</td>\n",
       "      <td>1.0</td>\n",
       "      <td>Layer1</td>\n",
       "    </tr>\n",
       "    <tr>\n",
       "      <th>22</th>\n",
       "      <td>80.0</td>\n",
       "      <td>0.0</td>\n",
       "      <td>35.0</td>\n",
       "      <td>90.0</td>\n",
       "      <td>33.690068</td>\n",
       "      <td>1.0</td>\n",
       "      <td>Layer2</td>\n",
       "    </tr>\n",
       "    <tr>\n",
       "      <th>23</th>\n",
       "      <td>80.0</td>\n",
       "      <td>0.0</td>\n",
       "      <td>9.0</td>\n",
       "      <td>90.0</td>\n",
       "      <td>35.837653</td>\n",
       "      <td>1.0</td>\n",
       "      <td>Layer3</td>\n",
       "    </tr>\n",
       "    <tr>\n",
       "      <th>24</th>\n",
       "      <td>80.0</td>\n",
       "      <td>0.0</td>\n",
       "      <td>0.0</td>\n",
       "      <td>90.0</td>\n",
       "      <td>0.000000</td>\n",
       "      <td>1.0</td>\n",
       "      <td>Layer4</td>\n",
       "    </tr>\n",
       "    <tr>\n",
       "      <th>25</th>\n",
       "      <td>80.0</td>\n",
       "      <td>0.0</td>\n",
       "      <td>83.0</td>\n",
       "      <td>90.0</td>\n",
       "      <td>-15.524111</td>\n",
       "      <td>1.0</td>\n",
       "      <td>Layer5</td>\n",
       "    </tr>\n",
       "    <tr>\n",
       "      <th>26</th>\n",
       "      <td>100.0</td>\n",
       "      <td>0.0</td>\n",
       "      <td>41.0</td>\n",
       "      <td>90.0</td>\n",
       "      <td>-6.340192</td>\n",
       "      <td>1.0</td>\n",
       "      <td>Layer1</td>\n",
       "    </tr>\n",
       "    <tr>\n",
       "      <th>27</th>\n",
       "      <td>100.0</td>\n",
       "      <td>0.0</td>\n",
       "      <td>29.0</td>\n",
       "      <td>90.0</td>\n",
       "      <td>-6.340192</td>\n",
       "      <td>1.0</td>\n",
       "      <td>Layer2</td>\n",
       "    </tr>\n",
       "    <tr>\n",
       "      <th>28</th>\n",
       "      <td>100.0</td>\n",
       "      <td>0.0</td>\n",
       "      <td>4.0</td>\n",
       "      <td>90.0</td>\n",
       "      <td>-6.340192</td>\n",
       "      <td>1.0</td>\n",
       "      <td>Layer3</td>\n",
       "    </tr>\n",
       "    <tr>\n",
       "      <th>29</th>\n",
       "      <td>100.0</td>\n",
       "      <td>0.0</td>\n",
       "      <td>0.0</td>\n",
       "      <td>90.0</td>\n",
       "      <td>0.000000</td>\n",
       "      <td>1.0</td>\n",
       "      <td>Layer4</td>\n",
       "    </tr>\n",
       "    <tr>\n",
       "      <th>30</th>\n",
       "      <td>100.0</td>\n",
       "      <td>0.0</td>\n",
       "      <td>89.0</td>\n",
       "      <td>90.0</td>\n",
       "      <td>-15.524111</td>\n",
       "      <td>1.0</td>\n",
       "      <td>Layer5</td>\n",
       "    </tr>\n",
       "    <tr>\n",
       "      <th>31</th>\n",
       "      <td>120.0</td>\n",
       "      <td>0.0</td>\n",
       "      <td>50.0</td>\n",
       "      <td>90.0</td>\n",
       "      <td>-39.805571</td>\n",
       "      <td>1.0</td>\n",
       "      <td>Layer1</td>\n",
       "    </tr>\n",
       "    <tr>\n",
       "      <th>32</th>\n",
       "      <td>120.0</td>\n",
       "      <td>0.0</td>\n",
       "      <td>39.0</td>\n",
       "      <td>90.0</td>\n",
       "      <td>-41.633539</td>\n",
       "      <td>1.0</td>\n",
       "      <td>Layer2</td>\n",
       "    </tr>\n",
       "    <tr>\n",
       "      <th>33</th>\n",
       "      <td>120.0</td>\n",
       "      <td>0.0</td>\n",
       "      <td>13.0</td>\n",
       "      <td>90.0</td>\n",
       "      <td>-39.805571</td>\n",
       "      <td>1.0</td>\n",
       "      <td>Layer3</td>\n",
       "    </tr>\n",
       "    <tr>\n",
       "      <th>34</th>\n",
       "      <td>120.0</td>\n",
       "      <td>0.0</td>\n",
       "      <td>0.0</td>\n",
       "      <td>90.0</td>\n",
       "      <td>0.000000</td>\n",
       "      <td>1.0</td>\n",
       "      <td>Layer4</td>\n",
       "    </tr>\n",
       "    <tr>\n",
       "      <th>35</th>\n",
       "      <td>120.0</td>\n",
       "      <td>0.0</td>\n",
       "      <td>94.0</td>\n",
       "      <td>90.0</td>\n",
       "      <td>-15.524111</td>\n",
       "      <td>1.0</td>\n",
       "      <td>Layer5</td>\n",
       "    </tr>\n",
       "  </tbody>\n",
       "</table>\n",
       "</div>"
      ],
      "text/plain": [
       "        X    Y     Z  azimuth        dip  polarity formation\n",
       "3     0.0  0.0  33.0     90.0 -43.363423       1.0    Layer3\n",
       "4     0.0  0.0   0.0     90.0   0.000000       1.0    Layer4\n",
       "5     0.0  0.0  61.0     90.0 -15.524111       1.0    Layer5\n",
       "8    20.0  0.0  45.0     90.0 -15.524111       1.0    Layer3\n",
       "9    20.0  0.0   0.0     90.0   0.000000       1.0    Layer4\n",
       "10   20.0  0.0  66.0     90.0 -15.524111       1.0    Layer5\n",
       "13   40.0  0.0  42.0     90.0  31.429566       1.0    Layer3\n",
       "14   40.0  0.0   0.0     90.0   0.000000       1.0    Layer4\n",
       "15   40.0  0.0  72.0     90.0 -15.524111       1.0    Layer5\n",
       "16   60.0  0.0  63.0     90.0  43.363423       1.0    Layer1\n",
       "17   60.0  0.0  52.0     90.0  45.000000       1.0    Layer2\n",
       "18   60.0  0.0  26.0     90.0  43.363423       1.0    Layer3\n",
       "19   60.0  0.0   0.0     90.0   0.000000       1.0    Layer4\n",
       "20   60.0  0.0  77.0     90.0 -15.524111       1.0    Layer5\n",
       "21   80.0  0.0  46.0     90.0  35.837653       1.0    Layer1\n",
       "22   80.0  0.0  35.0     90.0  33.690068       1.0    Layer2\n",
       "23   80.0  0.0   9.0     90.0  35.837653       1.0    Layer3\n",
       "24   80.0  0.0   0.0     90.0   0.000000       1.0    Layer4\n",
       "25   80.0  0.0  83.0     90.0 -15.524111       1.0    Layer5\n",
       "26  100.0  0.0  41.0     90.0  -6.340192       1.0    Layer1\n",
       "27  100.0  0.0  29.0     90.0  -6.340192       1.0    Layer2\n",
       "28  100.0  0.0   4.0     90.0  -6.340192       1.0    Layer3\n",
       "29  100.0  0.0   0.0     90.0   0.000000       1.0    Layer4\n",
       "30  100.0  0.0  89.0     90.0 -15.524111       1.0    Layer5\n",
       "31  120.0  0.0  50.0     90.0 -39.805571       1.0    Layer1\n",
       "32  120.0  0.0  39.0     90.0 -41.633539       1.0    Layer2\n",
       "33  120.0  0.0  13.0     90.0 -39.805571       1.0    Layer3\n",
       "34  120.0  0.0   0.0     90.0   0.000000       1.0    Layer4\n",
       "35  120.0  0.0  94.0     90.0 -15.524111       1.0    Layer5"
      ]
     },
     "execution_count": 357,
     "metadata": {},
     "output_type": "execute_result"
    }
   ],
   "source": [
    "foliations"
   ]
  },
  {
   "cell_type": "code",
   "execution_count": 343,
   "metadata": {
    "collapsed": false
   },
   "outputs": [
    {
     "data": {
      "text/html": [
       "<div>\n",
       "<table border=\"1\" class=\"dataframe\">\n",
       "  <thead>\n",
       "    <tr style=\"text-align: right;\">\n",
       "      <th></th>\n",
       "      <th>X</th>\n",
       "      <th>Y</th>\n",
       "      <th>Z</th>\n",
       "      <th>formation</th>\n",
       "    </tr>\n",
       "  </thead>\n",
       "  <tbody>\n",
       "    <tr>\n",
       "      <th>2</th>\n",
       "      <td>0.0</td>\n",
       "      <td>50.0</td>\n",
       "      <td>0.0</td>\n",
       "      <td>Layer2</td>\n",
       "    </tr>\n",
       "    <tr>\n",
       "      <th>3</th>\n",
       "      <td>0.0</td>\n",
       "      <td>25.0</td>\n",
       "      <td>0.0</td>\n",
       "      <td>Layer3</td>\n",
       "    </tr>\n",
       "    <tr>\n",
       "      <th>5</th>\n",
       "      <td>0.0</td>\n",
       "      <td>59.0</td>\n",
       "      <td>0.0</td>\n",
       "      <td>Layer5</td>\n",
       "    </tr>\n",
       "    <tr>\n",
       "      <th>8</th>\n",
       "      <td>10.0</td>\n",
       "      <td>35.0</td>\n",
       "      <td>0.0</td>\n",
       "      <td>Layer3</td>\n",
       "    </tr>\n",
       "    <tr>\n",
       "      <th>10</th>\n",
       "      <td>10.0</td>\n",
       "      <td>61.0</td>\n",
       "      <td>0.0</td>\n",
       "      <td>Layer5</td>\n",
       "    </tr>\n",
       "    <tr>\n",
       "      <th>13</th>\n",
       "      <td>20.0</td>\n",
       "      <td>43.0</td>\n",
       "      <td>0.0</td>\n",
       "      <td>Layer3</td>\n",
       "    </tr>\n",
       "    <tr>\n",
       "      <th>15</th>\n",
       "      <td>20.0</td>\n",
       "      <td>64.0</td>\n",
       "      <td>0.0</td>\n",
       "      <td>Layer5</td>\n",
       "    </tr>\n",
       "    <tr>\n",
       "      <th>18</th>\n",
       "      <td>30.0</td>\n",
       "      <td>47.0</td>\n",
       "      <td>0.0</td>\n",
       "      <td>Layer3</td>\n",
       "    </tr>\n",
       "    <tr>\n",
       "      <th>20</th>\n",
       "      <td>30.0</td>\n",
       "      <td>67.0</td>\n",
       "      <td>0.0</td>\n",
       "      <td>Layer5</td>\n",
       "    </tr>\n",
       "    <tr>\n",
       "      <th>23</th>\n",
       "      <td>40.0</td>\n",
       "      <td>48.0</td>\n",
       "      <td>0.0</td>\n",
       "      <td>Layer3</td>\n",
       "    </tr>\n",
       "    <tr>\n",
       "      <th>25</th>\n",
       "      <td>40.0</td>\n",
       "      <td>70.0</td>\n",
       "      <td>0.0</td>\n",
       "      <td>Layer5</td>\n",
       "    </tr>\n",
       "    <tr>\n",
       "      <th>28</th>\n",
       "      <td>50.0</td>\n",
       "      <td>43.0</td>\n",
       "      <td>0.0</td>\n",
       "      <td>Layer3</td>\n",
       "    </tr>\n",
       "    <tr>\n",
       "      <th>30</th>\n",
       "      <td>50.0</td>\n",
       "      <td>73.0</td>\n",
       "      <td>0.0</td>\n",
       "      <td>Layer5</td>\n",
       "    </tr>\n",
       "    <tr>\n",
       "      <th>32</th>\n",
       "      <td>60.0</td>\n",
       "      <td>61.0</td>\n",
       "      <td>0.0</td>\n",
       "      <td>Layer2</td>\n",
       "    </tr>\n",
       "    <tr>\n",
       "      <th>33</th>\n",
       "      <td>60.0</td>\n",
       "      <td>35.0</td>\n",
       "      <td>0.0</td>\n",
       "      <td>Layer3</td>\n",
       "    </tr>\n",
       "    <tr>\n",
       "      <th>35</th>\n",
       "      <td>60.0</td>\n",
       "      <td>75.0</td>\n",
       "      <td>0.0</td>\n",
       "      <td>Layer5</td>\n",
       "    </tr>\n",
       "    <tr>\n",
       "      <th>37</th>\n",
       "      <td>70.0</td>\n",
       "      <td>51.0</td>\n",
       "      <td>0.0</td>\n",
       "      <td>Layer2</td>\n",
       "    </tr>\n",
       "    <tr>\n",
       "      <th>38</th>\n",
       "      <td>70.0</td>\n",
       "      <td>26.0</td>\n",
       "      <td>0.0</td>\n",
       "      <td>Layer3</td>\n",
       "    </tr>\n",
       "    <tr>\n",
       "      <th>40</th>\n",
       "      <td>70.0</td>\n",
       "      <td>78.0</td>\n",
       "      <td>0.0</td>\n",
       "      <td>Layer5</td>\n",
       "    </tr>\n",
       "    <tr>\n",
       "      <th>41</th>\n",
       "      <td>80.0</td>\n",
       "      <td>53.0</td>\n",
       "      <td>0.0</td>\n",
       "      <td>Layer1</td>\n",
       "    </tr>\n",
       "    <tr>\n",
       "      <th>42</th>\n",
       "      <td>80.0</td>\n",
       "      <td>41.0</td>\n",
       "      <td>0.0</td>\n",
       "      <td>Layer2</td>\n",
       "    </tr>\n",
       "    <tr>\n",
       "      <th>43</th>\n",
       "      <td>80.0</td>\n",
       "      <td>16.0</td>\n",
       "      <td>0.0</td>\n",
       "      <td>Layer3</td>\n",
       "    </tr>\n",
       "    <tr>\n",
       "      <th>45</th>\n",
       "      <td>80.0</td>\n",
       "      <td>81.0</td>\n",
       "      <td>0.0</td>\n",
       "      <td>Layer5</td>\n",
       "    </tr>\n",
       "    <tr>\n",
       "      <th>46</th>\n",
       "      <td>90.0</td>\n",
       "      <td>44.0</td>\n",
       "      <td>0.0</td>\n",
       "      <td>Layer1</td>\n",
       "    </tr>\n",
       "    <tr>\n",
       "      <th>47</th>\n",
       "      <td>90.0</td>\n",
       "      <td>33.0</td>\n",
       "      <td>0.0</td>\n",
       "      <td>Layer2</td>\n",
       "    </tr>\n",
       "    <tr>\n",
       "      <th>48</th>\n",
       "      <td>90.0</td>\n",
       "      <td>8.0</td>\n",
       "      <td>0.0</td>\n",
       "      <td>Layer3</td>\n",
       "    </tr>\n",
       "    <tr>\n",
       "      <th>50</th>\n",
       "      <td>90.0</td>\n",
       "      <td>84.0</td>\n",
       "      <td>0.0</td>\n",
       "      <td>Layer5</td>\n",
       "    </tr>\n",
       "    <tr>\n",
       "      <th>51</th>\n",
       "      <td>100.0</td>\n",
       "      <td>40.0</td>\n",
       "      <td>0.0</td>\n",
       "      <td>Layer1</td>\n",
       "    </tr>\n",
       "    <tr>\n",
       "      <th>52</th>\n",
       "      <td>100.0</td>\n",
       "      <td>28.0</td>\n",
       "      <td>0.0</td>\n",
       "      <td>Layer2</td>\n",
       "    </tr>\n",
       "    <tr>\n",
       "      <th>53</th>\n",
       "      <td>100.0</td>\n",
       "      <td>3.0</td>\n",
       "      <td>0.0</td>\n",
       "      <td>Layer3</td>\n",
       "    </tr>\n",
       "    <tr>\n",
       "      <th>...</th>\n",
       "      <td>...</td>\n",
       "      <td>...</td>\n",
       "      <td>...</td>\n",
       "      <td>...</td>\n",
       "    </tr>\n",
       "    <tr>\n",
       "      <th>56</th>\n",
       "      <td>110.0</td>\n",
       "      <td>39.0</td>\n",
       "      <td>0.0</td>\n",
       "      <td>Layer1</td>\n",
       "    </tr>\n",
       "    <tr>\n",
       "      <th>57</th>\n",
       "      <td>110.0</td>\n",
       "      <td>27.0</td>\n",
       "      <td>0.0</td>\n",
       "      <td>Layer2</td>\n",
       "    </tr>\n",
       "    <tr>\n",
       "      <th>58</th>\n",
       "      <td>110.0</td>\n",
       "      <td>2.0</td>\n",
       "      <td>0.0</td>\n",
       "      <td>Layer3</td>\n",
       "    </tr>\n",
       "    <tr>\n",
       "      <th>60</th>\n",
       "      <td>110.0</td>\n",
       "      <td>89.0</td>\n",
       "      <td>0.0</td>\n",
       "      <td>Layer5</td>\n",
       "    </tr>\n",
       "    <tr>\n",
       "      <th>61</th>\n",
       "      <td>120.0</td>\n",
       "      <td>43.0</td>\n",
       "      <td>0.0</td>\n",
       "      <td>Layer1</td>\n",
       "    </tr>\n",
       "    <tr>\n",
       "      <th>62</th>\n",
       "      <td>120.0</td>\n",
       "      <td>31.0</td>\n",
       "      <td>0.0</td>\n",
       "      <td>Layer2</td>\n",
       "    </tr>\n",
       "    <tr>\n",
       "      <th>63</th>\n",
       "      <td>120.0</td>\n",
       "      <td>6.0</td>\n",
       "      <td>0.0</td>\n",
       "      <td>Layer3</td>\n",
       "    </tr>\n",
       "    <tr>\n",
       "      <th>65</th>\n",
       "      <td>120.0</td>\n",
       "      <td>92.0</td>\n",
       "      <td>0.0</td>\n",
       "      <td>Layer5</td>\n",
       "    </tr>\n",
       "    <tr>\n",
       "      <th>66</th>\n",
       "      <td>130.0</td>\n",
       "      <td>51.0</td>\n",
       "      <td>0.0</td>\n",
       "      <td>Layer1</td>\n",
       "    </tr>\n",
       "    <tr>\n",
       "      <th>67</th>\n",
       "      <td>130.0</td>\n",
       "      <td>39.0</td>\n",
       "      <td>0.0</td>\n",
       "      <td>Layer2</td>\n",
       "    </tr>\n",
       "    <tr>\n",
       "      <th>68</th>\n",
       "      <td>130.0</td>\n",
       "      <td>14.0</td>\n",
       "      <td>0.0</td>\n",
       "      <td>Layer3</td>\n",
       "    </tr>\n",
       "    <tr>\n",
       "      <th>70</th>\n",
       "      <td>130.0</td>\n",
       "      <td>95.0</td>\n",
       "      <td>0.0</td>\n",
       "      <td>Layer5</td>\n",
       "    </tr>\n",
       "    <tr>\n",
       "      <th>7</th>\n",
       "      <td>10.0</td>\n",
       "      <td>60.0</td>\n",
       "      <td>0.0</td>\n",
       "      <td>Layer2</td>\n",
       "    </tr>\n",
       "    <tr>\n",
       "      <th>27</th>\n",
       "      <td>50.0</td>\n",
       "      <td>69.0</td>\n",
       "      <td>0.0</td>\n",
       "      <td>Layer2</td>\n",
       "    </tr>\n",
       "    <tr>\n",
       "      <th>31</th>\n",
       "      <td>60.0</td>\n",
       "      <td>72.0</td>\n",
       "      <td>0.0</td>\n",
       "      <td>Layer1</td>\n",
       "    </tr>\n",
       "    <tr>\n",
       "      <th>36</th>\n",
       "      <td>70.0</td>\n",
       "      <td>63.0</td>\n",
       "      <td>0.0</td>\n",
       "      <td>Layer1</td>\n",
       "    </tr>\n",
       "    <tr>\n",
       "      <th>4</th>\n",
       "      <td>0.0</td>\n",
       "      <td>0.0</td>\n",
       "      <td>0.0</td>\n",
       "      <td>Layer4</td>\n",
       "    </tr>\n",
       "    <tr>\n",
       "      <th>9</th>\n",
       "      <td>10.0</td>\n",
       "      <td>0.0</td>\n",
       "      <td>0.0</td>\n",
       "      <td>Layer4</td>\n",
       "    </tr>\n",
       "    <tr>\n",
       "      <th>14</th>\n",
       "      <td>20.0</td>\n",
       "      <td>0.0</td>\n",
       "      <td>0.0</td>\n",
       "      <td>Layer4</td>\n",
       "    </tr>\n",
       "    <tr>\n",
       "      <th>19</th>\n",
       "      <td>30.0</td>\n",
       "      <td>0.0</td>\n",
       "      <td>0.0</td>\n",
       "      <td>Layer4</td>\n",
       "    </tr>\n",
       "    <tr>\n",
       "      <th>24</th>\n",
       "      <td>40.0</td>\n",
       "      <td>0.0</td>\n",
       "      <td>0.0</td>\n",
       "      <td>Layer4</td>\n",
       "    </tr>\n",
       "    <tr>\n",
       "      <th>29</th>\n",
       "      <td>50.0</td>\n",
       "      <td>0.0</td>\n",
       "      <td>0.0</td>\n",
       "      <td>Layer4</td>\n",
       "    </tr>\n",
       "    <tr>\n",
       "      <th>34</th>\n",
       "      <td>60.0</td>\n",
       "      <td>0.0</td>\n",
       "      <td>0.0</td>\n",
       "      <td>Layer4</td>\n",
       "    </tr>\n",
       "    <tr>\n",
       "      <th>39</th>\n",
       "      <td>70.0</td>\n",
       "      <td>0.0</td>\n",
       "      <td>0.0</td>\n",
       "      <td>Layer4</td>\n",
       "    </tr>\n",
       "    <tr>\n",
       "      <th>44</th>\n",
       "      <td>80.0</td>\n",
       "      <td>0.0</td>\n",
       "      <td>0.0</td>\n",
       "      <td>Layer4</td>\n",
       "    </tr>\n",
       "    <tr>\n",
       "      <th>49</th>\n",
       "      <td>90.0</td>\n",
       "      <td>0.0</td>\n",
       "      <td>0.0</td>\n",
       "      <td>Layer4</td>\n",
       "    </tr>\n",
       "    <tr>\n",
       "      <th>54</th>\n",
       "      <td>100.0</td>\n",
       "      <td>0.0</td>\n",
       "      <td>0.0</td>\n",
       "      <td>Layer4</td>\n",
       "    </tr>\n",
       "    <tr>\n",
       "      <th>59</th>\n",
       "      <td>110.0</td>\n",
       "      <td>0.0</td>\n",
       "      <td>0.0</td>\n",
       "      <td>Layer4</td>\n",
       "    </tr>\n",
       "    <tr>\n",
       "      <th>64</th>\n",
       "      <td>120.0</td>\n",
       "      <td>0.0</td>\n",
       "      <td>0.0</td>\n",
       "      <td>Layer4</td>\n",
       "    </tr>\n",
       "    <tr>\n",
       "      <th>69</th>\n",
       "      <td>130.0</td>\n",
       "      <td>0.0</td>\n",
       "      <td>0.0</td>\n",
       "      <td>Layer4</td>\n",
       "    </tr>\n",
       "  </tbody>\n",
       "</table>\n",
       "<p>61 rows × 4 columns</p>\n",
       "</div>"
      ],
      "text/plain": [
       "        X     Y    Z formation\n",
       "2     0.0  50.0  0.0    Layer2\n",
       "3     0.0  25.0  0.0    Layer3\n",
       "5     0.0  59.0  0.0    Layer5\n",
       "8    10.0  35.0  0.0    Layer3\n",
       "10   10.0  61.0  0.0    Layer5\n",
       "13   20.0  43.0  0.0    Layer3\n",
       "15   20.0  64.0  0.0    Layer5\n",
       "18   30.0  47.0  0.0    Layer3\n",
       "20   30.0  67.0  0.0    Layer5\n",
       "23   40.0  48.0  0.0    Layer3\n",
       "25   40.0  70.0  0.0    Layer5\n",
       "28   50.0  43.0  0.0    Layer3\n",
       "30   50.0  73.0  0.0    Layer5\n",
       "32   60.0  61.0  0.0    Layer2\n",
       "33   60.0  35.0  0.0    Layer3\n",
       "35   60.0  75.0  0.0    Layer5\n",
       "37   70.0  51.0  0.0    Layer2\n",
       "38   70.0  26.0  0.0    Layer3\n",
       "40   70.0  78.0  0.0    Layer5\n",
       "41   80.0  53.0  0.0    Layer1\n",
       "42   80.0  41.0  0.0    Layer2\n",
       "43   80.0  16.0  0.0    Layer3\n",
       "45   80.0  81.0  0.0    Layer5\n",
       "46   90.0  44.0  0.0    Layer1\n",
       "47   90.0  33.0  0.0    Layer2\n",
       "48   90.0   8.0  0.0    Layer3\n",
       "50   90.0  84.0  0.0    Layer5\n",
       "51  100.0  40.0  0.0    Layer1\n",
       "52  100.0  28.0  0.0    Layer2\n",
       "53  100.0   3.0  0.0    Layer3\n",
       "..    ...   ...  ...       ...\n",
       "56  110.0  39.0  0.0    Layer1\n",
       "57  110.0  27.0  0.0    Layer2\n",
       "58  110.0   2.0  0.0    Layer3\n",
       "60  110.0  89.0  0.0    Layer5\n",
       "61  120.0  43.0  0.0    Layer1\n",
       "62  120.0  31.0  0.0    Layer2\n",
       "63  120.0   6.0  0.0    Layer3\n",
       "65  120.0  92.0  0.0    Layer5\n",
       "66  130.0  51.0  0.0    Layer1\n",
       "67  130.0  39.0  0.0    Layer2\n",
       "68  130.0  14.0  0.0    Layer3\n",
       "70  130.0  95.0  0.0    Layer5\n",
       "7    10.0  60.0  0.0    Layer2\n",
       "27   50.0  69.0  0.0    Layer2\n",
       "31   60.0  72.0  0.0    Layer1\n",
       "36   70.0  63.0  0.0    Layer1\n",
       "4     0.0   0.0  0.0    Layer4\n",
       "9    10.0   0.0  0.0    Layer4\n",
       "14   20.0   0.0  0.0    Layer4\n",
       "19   30.0   0.0  0.0    Layer4\n",
       "24   40.0   0.0  0.0    Layer4\n",
       "29   50.0   0.0  0.0    Layer4\n",
       "34   60.0   0.0  0.0    Layer4\n",
       "39   70.0   0.0  0.0    Layer4\n",
       "44   80.0   0.0  0.0    Layer4\n",
       "49   90.0   0.0  0.0    Layer4\n",
       "54  100.0   0.0  0.0    Layer4\n",
       "59  110.0   0.0  0.0    Layer4\n",
       "64  120.0   0.0  0.0    Layer4\n",
       "69  130.0   0.0  0.0    Layer4\n",
       "\n",
       "[61 rows x 4 columns]"
      ]
     },
     "execution_count": 343,
     "metadata": {},
     "output_type": "execute_result"
    }
   ],
   "source": [
    "interfaces"
   ]
  }
 ],
 "metadata": {
  "anaconda-cloud": {},
  "kernelspec": {
   "display_name": "Python [default]",
   "language": "python",
   "name": "python2"
  },
  "language_info": {
   "codemirror_mode": {
    "name": "ipython",
    "version": 2
   },
   "file_extension": ".py",
   "mimetype": "text/x-python",
   "name": "python",
   "nbconvert_exporter": "python",
   "pygments_lexer": "ipython2",
   "version": "2.7.12"
  }
 },
 "nbformat": 4,
 "nbformat_minor": 0
}
