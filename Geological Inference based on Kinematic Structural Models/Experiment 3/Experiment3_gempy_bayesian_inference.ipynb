{
 "cells": [
  {
   "cell_type": "code",
   "execution_count": 1,
   "metadata": {
    "collapsed": true
   },
   "outputs": [],
   "source": [
    "import numpy as np\n",
    "import matplotlib.pyplot as plt\n",
    "import matplotlib as mpl\n",
    "%matplotlib inline\n",
    "#plt.style.use('bmh')\n",
    "plt.style.use(\"seaborn-colorblind\")\n",
    "import sys, os\n",
    "import pynoddy.history\n",
    "import pynoddy.output\n",
    "import pynoddy.experiment\n",
    "import pymc\n",
    "import theano.tensor as T\n",
    "import GeoMig\n",
    "import importlib\n",
    "#import geogrid\n",
    "reload(GeoMig)\n",
    "import pickle\n",
    "import importlib\n",
    "#importlib.reload(GeoMig)\n",
    "import numpy as np\n",
    "import pandas as pn\n",
    "from mpl_toolkits.mplot3d import Axes3D\n",
    "import matplotlib.pyplot as plt\n",
    "import matplotlib\n",
    "import matplotlib.cm as cm\n",
    "from skimage import measure\n",
    "os.environ['CUDA_LAUNCH_BLOCKING'] = '1'\n",
    "np.set_printoptions(precision = 6, linewidth= 130, suppress =  True)\n",
    "from mpl_toolkits.mplot3d import axes3d\n",
    "import matplotlib.pyplot as plt\n",
    "from matplotlib import cm\n",
    "%matplotlib notebook\n",
    "import pandas as pd\n",
    "import pickle\n",
    "sys.path.append(\"..\")\n",
    "import PosteriorAnalysis as pa"
   ]
  },
  {
   "cell_type": "markdown",
   "metadata": {},
   "source": [
    "##### Load Interface Priors"
   ]
  },
  {
   "cell_type": "raw",
   "metadata": {
    "collapsed": false
   },
   "source": [
    "mean_prior_interfaces = np.load(\"mean_prior_interfaces.npy\")\n",
    "mean_prior_interfaces = np.c_[mean_prior_interfaces, np.array([pymc.Normal(row[3]+\"_x\"+str(row[0])+\"_y\"+str(row[1]), row[2], 1./np.square(row[2]/10.)) for row in mean_prior_interfaces])]\n",
    "mean_prior_interfaces"
   ]
  },
  {
   "cell_type": "markdown",
   "metadata": {},
   "source": [
    "# GeMpy Model"
   ]
  },
  {
   "cell_type": "code",
   "execution_count": null,
   "metadata": {
    "collapsed": true
   },
   "outputs": [],
   "source": [
    "nx = 200\n",
    "nz = 100\n",
    "\n",
    "GM = GeoMig.Interpolator(0,nx,\n",
    "                         0,10,\n",
    "                         0,nz,\n",
    "                         u_grade=3)\n",
    "\n",
    "# set grid resolution\n",
    "GM.set_resolutions(nx,4,nz)\n",
    "GM.create_regular_grid_3D()\n",
    "\n",
    "# compile\n",
    "GM.theano_compilation_3D()\n",
    "\n",
    "#\n",
    "_interfaces_col_names = [\"X\", \"Y\", \"Z\", \"formation\"]\n",
    "interfaces = pn.DataFrame(columns=_interfaces_col_names)\n",
    "for row in mean_prior_interfaces:\n",
    "    interfaces.loc[len(interfaces)] = [row[0], row[1], row[2], row[3]]\n",
    "    \n",
    "GM.load_data_pd(\"interfaces\", interfaces)"
   ]
  },
  {
   "cell_type": "code",
   "execution_count": null,
   "metadata": {
    "collapsed": true
   },
   "outputs": [],
   "source": [
    "def calc_fucking_foliations(interface_df):\n",
    "    test_sorted = interface_df.sort_values(\"formation\")\n",
    "    _foliation_col_names = [\"X\", \"Y\", \"Z\", \"azimuth\", \"dip\", \"polarity\", \"formation\"]\n",
    "    foliations = pn.DataFrame(columns=_foliation_col_names)\n",
    "\n",
    "    for i,row in enumerate(test_sorted.values):\n",
    "        #print i,row\n",
    "        if row[3] == \"Layer3\" or row[3] == \"Layer5\":\n",
    "            if i != len(test_sorted.values)-1:\n",
    "                if row[3] == test_sorted.values[i+1][3]:\n",
    "                    dx = row[0] - test_sorted.values[i+1][0]\n",
    "                    dz = row[2] - test_sorted.values[i+1][2]\n",
    "\n",
    "                    dip = np.rad2deg(np.arctan(dz/float(dx)))\n",
    "                    #print dip\n",
    "                    foliations.loc[len(foliations)] = [np.abs((row[0] + test_sorted.values[i+1][0])/2),\n",
    "                                                       0,\n",
    "                                                         np.abs((row[2] + test_sorted.values[i+1][2]) / 2),\n",
    "                                                         -90,\n",
    "                                                         dip,\n",
    "                                                         1.0,\n",
    "                                                         row[3]]\n",
    "    return foliations"
   ]
  },
  {
   "cell_type": "code",
   "execution_count": null,
   "metadata": {
    "collapsed": true
   },
   "outputs": [],
   "source": [
    "GM.load_data_pd(\"foliations\", calc_fucking_foliations(GM.Interfaces))\n",
    "print GM.Foliations\n",
    "print GM.Interfaces\n",
    "\n",
    "initial = []\n",
    "for layer in GM.formations:\n",
    "    if layer != \"Layer5\":\n",
    "        initial.append(layer)\n",
    "GM.set_series({\"Initial\": tuple(initial), \"Unconformity\": \"Layer5\"})\n",
    "\n",
    "GM.block.set_value(np.zeros_like(GM.grid[:,0]))\n",
    "GM.compute_block_model([0,1], verbose = 0)\n",
    "plot_block =  GM.block.get_value().reshape(200,4,100)\n",
    "\n",
    "%matplotlib inline\n",
    "plt.imshow(plot_block[:,2,:].T,origin=\"lower\")\n",
    "plt.scatter(GM.Interfaces[\"X\"],GM.Interfaces[\"Z\"])\n",
    "plt.scatter(GM.Foliations[\"X\"],GM.Foliations[\"Z\"], color=\"green\")\n",
    "#plt.savefig(\"PGM2_5_gempy_mean_prior_section.pdf\")"
   ]
  },
  {
   "cell_type": "markdown",
   "metadata": {},
   "source": [
    "# Extract Likelihood From Noddy"
   ]
  },
  {
   "cell_type": "code",
   "execution_count": null,
   "metadata": {
    "collapsed": true
   },
   "outputs": [],
   "source": [
    "noddy_db = # .hdf5 file of noddy experiment from which to extract the likelihood functions"
   ]
  },
  {
   "cell_type": "code",
   "execution_count": null,
   "metadata": {
    "collapsed": true
   },
   "outputs": [],
   "source": [
    "reload(pa)\n",
    "nl = pa.PosteriorAnalysis(noddy_db, \"pynoddy\")\n",
    "like_layer_heights = nl.kde_dict(nl.extract_layer_height_dict([5, 50, 90, 150, 180], drop=4))\n",
    "\n",
    "for p in like_layer_heights.keys():\n",
    "    for l in like_layer_heights[p].keys():\n",
    "        print p,l,like_layer_heights[p][l]"
   ]
  },
  {
   "cell_type": "markdown",
   "metadata": {},
   "source": [
    "### Saving as Pickle"
   ]
  },
  {
   "cell_type": "code",
   "execution_count": null,
   "metadata": {
    "collapsed": true
   },
   "outputs": [],
   "source": [
    "pickle.dump(like_layer_heights, open(\"like_layer_heights.p\", \"wb\" ) )"
   ]
  },
  {
   "cell_type": "markdown",
   "metadata": {},
   "source": [
    "#### Load Pickle"
   ]
  },
  {
   "cell_type": "code",
   "execution_count": null,
   "metadata": {
    "collapsed": true
   },
   "outputs": [],
   "source": [
    "like_layer_heights = pickle.load(open(\"like_layer_heights.p\", \"rb\"))\n",
    "like_layer_heights"
   ]
  },
  {
   "cell_type": "markdown",
   "metadata": {},
   "source": [
    "# GeMpy PYMC"
   ]
  },
  {
   "cell_type": "code",
   "execution_count": null,
   "metadata": {
    "collapsed": true
   },
   "outputs": [],
   "source": [
    "@pymc.deterministic\n",
    "def gempy_model(value=0, interf=interfaces, priors=mean_prior_interfaces, verbose=0, nx=nx, nz=nz):\n",
    "    \n",
    "    # set prior interface values\n",
    "    interf[\"Z\"] = priors[:,4]\n",
    "    GM.load_data_pd(\"interfaces\", interf)\n",
    "    \n",
    "    if verbose == 1:\n",
    "        print GM.Interfaces\n",
    "    \n",
    "    GM.load_data_pd(\"foliations\", calc_fucking_foliations(GM.Interfaces))\n",
    "    \n",
    "    if verbose == 1:\n",
    "        print GM.Foliations\n",
    "    \n",
    "    # load layers into series\n",
    "    initial = []\n",
    "    for layer in GM.formations:\n",
    "        if layer != \"Layer5\":\n",
    "            initial.append(layer)\n",
    "    GM.set_series({\"Initial\": tuple(initial), \"Unconformity\": \"Layer5\"})\n",
    "    \n",
    "    if verbose==1:\n",
    "        print GM.series\n",
    "    \n",
    "    # gempy magic calculation\n",
    "    GM.block.set_value(np.zeros_like(GM.grid[:,0]))\n",
    "    GM.compute_block_model([0,1],verbose = 0)\n",
    "    plot_block =  GM.block.get_value().reshape(200,4,100)\n",
    "    \n",
    "    # return gempy block model\n",
    "    if verbose > 0:\n",
    "        plt.imshow(plot_block[:,2,:].T, origin=\"lower\")\n",
    "        plt.plot(GM.Interfaces[\"X\"],GM.Interfaces[\"Z\"],\"o\")\n",
    "        plt.plot(GM.Foliations[\"X\"],GM.Foliations[\"Z\"],\"x\", color=\"red\")\n",
    "        plt.xlim(0,200)\n",
    "        plt.ylim(0,100)\n",
    "    return plot_block[:,2,:]"
   ]
  },
  {
   "cell_type": "markdown",
   "metadata": {},
   "source": [
    "### Likelihood Functions"
   ]
  },
  {
   "cell_type": "code",
   "execution_count": null,
   "metadata": {
    "collapsed": true
   },
   "outputs": [],
   "source": [
    "# layer 1\n",
    "@pymc.stochastic\n",
    "def like_xpos0_layer_1(value=0, gempy_model=gempy_model, like_layer_heights=like_layer_heights):\n",
    "    x_pos=np.sort(like_layer_heights.keys())\n",
    "    if 1.0 in gempy_model[x_pos[0],:]:\n",
    "        model_height = np.where(gempy_model[x_pos[0],:]==1.0)[0][0]\n",
    "        return np.log(like_layer_heights[x_pos[0]][1].evaluate(model_height))[0]\n",
    "    else:\n",
    "        return np.log(0.001)\n",
    "\n",
    "@pymc.stochastic\n",
    "def like_xpos1_layer_1(value=0, gempy_model=gempy_model, like_layer_heights=like_layer_heights):\n",
    "    x_pos=np.sort(like_layer_heights.keys())\n",
    "    if 1.0 in gempy_model[x_pos[1],:]:\n",
    "        model_height = np.where(gempy_model[x_pos[1],:]==1.0)[0][0]\n",
    "        return np.log(like_layer_heights[x_pos[1]][1].evaluate(model_height))[0]\n",
    "    else:\n",
    "        return np.log(0.001)\n",
    "    \n",
    "#@pymc.stochastic\n",
    "#def like_xpos2_layer_1(value=0, gempy_model=gempy_model, like_layer_heights=like_layer_heights):\n",
    "#    x_pos=np.sort(like_layer_heights.keys())\n",
    "#    if 1.0 in gempy_model[x_pos[2],:]:\n",
    "#        model_height = np.where(gempy_model[x_pos[2],:]==1.0)[0][0]\n",
    "#        return np.log(like_layer_heights[x_pos[2]][1].evaluate(model_height))[0]\n",
    "#    else:\n",
    "#        return np.log(0.001)\n",
    "    \n",
    "@pymc.stochastic\n",
    "def like_xpos3_layer_1(value=0, gempy_model=gempy_model, like_layer_heights=like_layer_heights):\n",
    "    x_pos=np.sort(like_layer_heights.keys())\n",
    "    if 1.0 in gempy_model[x_pos[3],:]:\n",
    "        model_height = np.where(gempy_model[x_pos[3],:]==1.0)[0][0]\n",
    "        return np.log(like_layer_heights[x_pos[3]][1].evaluate(model_height))[0]\n",
    "    else:\n",
    "        return np.log(0.001)\n",
    "\n",
    "@pymc.stochastic\n",
    "def like_xpos4_layer_1(value=0, gempy_model=gempy_model, like_layer_heights=like_layer_heights):\n",
    "    x_pos=np.sort(like_layer_heights.keys())\n",
    "    if 1.0 in gempy_model[x_pos[4],:]:\n",
    "        model_height = np.where(gempy_model[x_pos[4],:]==1.0)[0][0]\n",
    "        return np.log(like_layer_heights[x_pos[4]][1].evaluate(model_height))[0]\n",
    "    else:\n",
    "        return np.log(0.001)\n",
    "    \n",
    "# -----------------------------------------------------------------------------------\n",
    "# -----------------------------------------------------------------------------------\n",
    "# -----------------------------------------------------------------------------------\n",
    "# layer 2\n",
    "@pymc.stochastic\n",
    "def like_xpos0_layer_2(value=0, gempy_model=gempy_model, like_layer_heights=like_layer_heights):\n",
    "    x_pos=np.sort(like_layer_heights.keys())\n",
    "    if 2.0 in gempy_model[x_pos[0],:]:\n",
    "        model_height = np.where(gempy_model[x_pos[0],:]==2.0)[0][0]\n",
    "        return np.log(like_layer_heights[x_pos[0]][2].evaluate(model_height))[0]\n",
    "    else:\n",
    "        return np.log(0.001)\n",
    "\n",
    "@pymc.stochastic\n",
    "def like_xpos1_layer_2(value=0, gempy_model=gempy_model, like_layer_heights=like_layer_heights):\n",
    "    x_pos=np.sort(like_layer_heights.keys())\n",
    "    if 2.0 in gempy_model[x_pos[1],:]:\n",
    "        model_height = np.where(gempy_model[x_pos[1],:]==2.0)[0][0]\n",
    "        return np.log(like_layer_heights[x_pos[1]][2].evaluate(model_height))[0]\n",
    "    else:\n",
    "        return np.log(0.001)\n",
    "    \n",
    "@pymc.stochastic\n",
    "def like_xpos2_layer_2(value=0, gempy_model=gempy_model, like_layer_heights=like_layer_heights):\n",
    "    x_pos=np.sort(like_layer_heights.keys())\n",
    "    if 2.0 in gempy_model[x_pos[2],:]:\n",
    "        model_height = np.where(gempy_model[x_pos[2],:]==2.0)[0][0]\n",
    "        return np.log(like_layer_heights[x_pos[2]][2].evaluate(model_height))[0]\n",
    "    else:\n",
    "        return np.log(0.001)\n",
    "    \n",
    "@pymc.stochastic\n",
    "def like_xpos3_layer_2(value=0, gempy_model=gempy_model, like_layer_heights=like_layer_heights):\n",
    "    x_pos=np.sort(like_layer_heights.keys())\n",
    "    if 2.0 in gempy_model[x_pos[3],:]:\n",
    "        model_height = np.where(gempy_model[x_pos[3],:]==2.0)[0][0]\n",
    "        return np.log(like_layer_heights[x_pos[3]][2].evaluate(model_height))[0]\n",
    "    else:\n",
    "        return np.log(0.001)\n",
    "    \n",
    "@pymc.stochastic\n",
    "def like_xpos4_layer_2(value=0, gempy_model=gempy_model, like_layer_heights=like_layer_heights):\n",
    "    x_pos=np.sort(like_layer_heights.keys())\n",
    "    if 2.0 in gempy_model[x_pos[4],:]:\n",
    "        model_height = np.where(gempy_model[x_pos[4],:]==2.0)[0][0]\n",
    "        return np.log(like_layer_heights[x_pos[4]][2].evaluate(model_height))[0]\n",
    "    else:\n",
    "        return np.log(0.001)\n",
    "    \n",
    "# -----------------------------------------------------------------------------------\n",
    "# -----------------------------------------------------------------------------------\n",
    "# -----------------------------------------------------------------------------------\n",
    "# layer 3\n",
    "@pymc.stochastic\n",
    "def like_xpos0_layer_3(value=0, gempy_model=gempy_model, like_layer_heights=like_layer_heights):\n",
    "    x_pos=np.sort(like_layer_heights.keys())\n",
    "    if 3.0 in gempy_model[x_pos[0],:]:\n",
    "        model_height = np.where(gempy_model[x_pos[0],:]==3.0)[0][0]\n",
    "        return np.log(like_layer_heights[x_pos[0]][3].evaluate(model_height))[0]\n",
    "    else:\n",
    "        return np.log(0.001)\n",
    "\n",
    "@pymc.stochastic\n",
    "def like_xpos1_layer_3(value=0, gempy_model=gempy_model, like_layer_heights=like_layer_heights):\n",
    "    x_pos=np.sort(like_layer_heights.keys())\n",
    "    if 3.0 in gempy_model[x_pos[1],:]:\n",
    "        model_height = np.where(gempy_model[x_pos[1],:]==3.0)[0][0]\n",
    "        return np.log(like_layer_heights[x_pos[1]][3].evaluate(model_height))[0]\n",
    "    else:\n",
    "        return np.log(0.001)\n",
    "    \n",
    "@pymc.stochastic\n",
    "def like_xpos2_layer_3(value=0, gempy_model=gempy_model, like_layer_heights=like_layer_heights):\n",
    "    x_pos=np.sort(like_layer_heights.keys())\n",
    "    if 3.0 in gempy_model[x_pos[2],:]:\n",
    "        model_height = np.where(gempy_model[x_pos[2],:]==3.0)[0][0]\n",
    "        return np.log(like_layer_heights[x_pos[2]][3].evaluate(model_height))[0]\n",
    "    else:\n",
    "        return np.log(0.001)\n",
    "\n",
    "@pymc.stochastic\n",
    "def like_xpos3_layer_3(value=0, gempy_model=gempy_model, like_layer_heights=like_layer_heights):\n",
    "    x_pos=np.sort(like_layer_heights.keys())\n",
    "    if 3.0 in gempy_model[x_pos[3],:]:\n",
    "        model_height = np.where(gempy_model[x_pos[3],:]==3.0)[0][0]\n",
    "        return np.log(like_layer_heights[x_pos[3]][3].evaluate(model_height))[0]\n",
    "    else:\n",
    "        return np.log(0.001)\n",
    "    \n",
    "@pymc.stochastic\n",
    "def like_xpos4_layer_3(value=0, gempy_model=gempy_model, like_layer_heights=like_layer_heights):\n",
    "    x_pos=np.sort(like_layer_heights.keys())\n",
    "    if 3.0 in gempy_model[x_pos[4],:]:\n",
    "        model_height = np.where(gempy_model[x_pos[4],:]==3.0)[0][0]\n",
    "        return np.log(like_layer_heights[x_pos[4]][3].evaluate(model_height))[0]\n",
    "    else:\n",
    "        return np.log(0.001)\n",
    "\n",
    "# -----------------------------------------------------------------------------------\n",
    "# -----------------------------------------------------------------------------------\n",
    "# -----------------------------------------------------------------------------------\n",
    "# layer 5\n",
    "@pymc.stochastic\n",
    "def like_xpos0_layer_5(value=0, gempy_model=gempy_model, like_layer_heights=like_layer_heights):\n",
    "    x_pos=np.sort(like_layer_heights.keys())\n",
    "    if 4.0 in gempy_model[x_pos[0],:]:\n",
    "        model_height = np.where(gempy_model[x_pos[0],:]==4.0)[0][0]\n",
    "        return np.log(like_layer_heights[x_pos[0]][5].evaluate(model_height))[0]\n",
    "    else:\n",
    "        return np.log(0.001)\n",
    "\n",
    "@pymc.stochastic\n",
    "def like_xpos1_layer_5(value=0, gempy_model=gempy_model, like_layer_heights=like_layer_heights):\n",
    "    x_pos=np.sort(like_layer_heights.keys())\n",
    "    if 4.0 in gempy_model[x_pos[1],:]:\n",
    "        model_height = np.where(gempy_model[x_pos[1],:]==4.0)[0][0]\n",
    "        return np.log(like_layer_heights[x_pos[1]][5].evaluate(model_height))[0]\n",
    "    else:\n",
    "        return np.log(0.001)\n",
    "    \n",
    "@pymc.stochastic\n",
    "def like_xpos2_layer_5(value=0, gempy_model=gempy_model, like_layer_heights=like_layer_heights):\n",
    "    x_pos=np.sort(like_layer_heights.keys())\n",
    "    if 4.0 in gempy_model[x_pos[2],:]:\n",
    "        model_height = np.where(gempy_model[x_pos[2],:]==4.0)[0][0]\n",
    "        return np.log(like_layer_heights[x_pos[2]][5].evaluate(model_height))[0]\n",
    "    else:\n",
    "        return np.log(0.001)\n",
    "\n",
    "@pymc.stochastic\n",
    "def like_xpos3_layer_5(value=0, gempy_model=gempy_model, like_layer_heights=like_layer_heights):\n",
    "    x_pos=np.sort(like_layer_heights.keys())\n",
    "    if 4.0 in gempy_model[x_pos[3],:]:\n",
    "        model_height = np.where(gempy_model[x_pos[3],:]==4.0)[0][0]\n",
    "        return np.log(like_layer_heights[x_pos[3]][5].evaluate(model_height))[0]\n",
    "    else:\n",
    "        return np.log(0.001)\n",
    "    \n",
    "@pymc.stochastic\n",
    "def like_xpos4_layer_5(value=0, gempy_model=gempy_model, like_layer_heights=like_layer_heights):\n",
    "    x_pos=np.sort(like_layer_heights.keys())\n",
    "    if 4.0 in gempy_model[x_pos[4],:]:\n",
    "        model_height = np.where(gempy_model[x_pos[4],:]==4.0)[0][0]\n",
    "        return np.log(like_layer_heights[x_pos[4]][5].evaluate(model_height))[0]\n",
    "    else:\n",
    "        return np.log(0.001)"
   ]
  },
  {
   "cell_type": "code",
   "execution_count": null,
   "metadata": {
    "collapsed": true
   },
   "outputs": [],
   "source": [
    "like_list = [like_xpos0_layer_1,like_xpos1_layer_1,#like_xpos2_layer_1,\n",
    "             like_xpos3_layer_1,like_xpos4_layer_1,\n",
    "             like_xpos0_layer_2,like_xpos1_layer_2,like_xpos2_layer_2,like_xpos3_layer_2,like_xpos4_layer_2,\n",
    "             like_xpos0_layer_3,like_xpos1_layer_3,like_xpos2_layer_3,like_xpos3_layer_3,like_xpos4_layer_3,\n",
    "             like_xpos0_layer_5,like_xpos1_layer_5,like_xpos2_layer_5,like_xpos3_layer_5,like_xpos4_layer_5]"
   ]
  },
  {
   "cell_type": "code",
   "execution_count": null,
   "metadata": {
    "collapsed": true
   },
   "outputs": [],
   "source": [
    "params = [mean_prior_interfaces[i,4] for i in range(len(mean_prior_interfaces[:,4]))]\n",
    "params.append(gempy_model)\n",
    "for entry in like_list:\n",
    "    params.append(entry)\n",
    "model = pymc.Model(params)"
   ]
  },
  {
   "cell_type": "code",
   "execution_count": null,
   "metadata": {
    "collapsed": true
   },
   "outputs": [],
   "source": [
    "%matplotlib inline"
   ]
  },
  {
   "cell_type": "code",
   "execution_count": null,
   "metadata": {
    "collapsed": true
   },
   "outputs": [],
   "source": [
    "iterations = "
   ]
  },
  {
   "cell_type": "code",
   "execution_count": null,
   "metadata": {
    "collapsed": true
   },
   "outputs": [],
   "source": [
    "RUN = pymc.MCMC(model, db=\"hdf5\", name=\"\")\n",
    "RUN.sample(iter=iterations)"
   ]
  },
  {
   "cell_type": "code",
   "execution_count": null,
   "metadata": {
    "collapsed": true
   },
   "outputs": [],
   "source": [
    "plt.imshow(RUN.trace(\"gempy_model\")[2500].T, origin=\"lower\")"
   ]
  }
 ],
 "metadata": {
  "anaconda-cloud": {},
  "kernelspec": {
   "display_name": "Python [default]",
   "language": "python",
   "name": "python2"
  },
  "language_info": {
   "codemirror_mode": {
    "name": "ipython",
    "version": 2
   },
   "file_extension": ".py",
   "mimetype": "text/x-python",
   "name": "python",
   "nbconvert_exporter": "python",
   "pygments_lexer": "ipython2",
   "version": "2.7.12"
  }
 },
 "nbformat": 4,
 "nbformat_minor": 1
}
